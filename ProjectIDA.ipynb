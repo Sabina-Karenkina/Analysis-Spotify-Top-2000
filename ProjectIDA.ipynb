{
 "cells": [
  {
   "cell_type": "markdown",
   "metadata": {},
   "source": [
    "# Analysis of Spotify Top-2000 songs"
   ]
  },
  {
   "cell_type": "markdown",
   "metadata": {},
   "source": [
    "### Content:\n",
    "* 1.Introduction\n",
    "* 2.Description of project\n",
    "* 3.Research questions\n",
    "* 4.Data preparation:cleaning and shaping  \n",
    "* 5.Data visualization"
   ]
  },
  {
   "cell_type": "markdown",
   "metadata": {},
   "source": [
    "## 1. Introduction"
   ]
  },
  {
   "cell_type": "markdown",
   "metadata": {},
   "source": [
    "In the modern world, almost everyone interacts with an art form - music. Music is listened to, created, reproduced and sung. Over the years, listening to music has developed with tremendous success and today one of the most popular music services is the streaming service Spotify, with nearly 300 million users worldwide. The service contains a database of 60 million tracks of all genres. As users themselves say, this service, unlike other platforms, has many advantages, such as: a simple and convenient interface, reasonable rates for access to catalogs of various tracks, a high-quality algorithm for selecting individual playlists, easy registration and payment methods, integration with social networks, cross-platform, streaming of tracks and albums - this function affects the increase in the popularity of an artist all over the world (the more followers and the number of listens to the artist's tracks, the artist is recognizable).Those songs that achieve great success among the audience remain in memory for a long time. Their influence on people can be so great that they leave their contribution to history. Songs can sometimes show us the development of entire generations.So, main goal of the project is to research and see power of the music."
   ]
  },
  {
   "cell_type": "markdown",
   "metadata": {},
   "source": [
    "## 2. Description of project"
   ]
  },
  {
   "cell_type": "markdown",
   "metadata": {},
   "source": [
    "The popularity factor is central to this research.\n",
    "The analysis is based on ready dataset taken from site kaggle.com : \n",
    "(https://www.kaggle.com/iamsumat/spotify-top-2000s-mega-dataset).\n",
    "Given dataset contains audio statistics of the top 2000 tracks on Spotify. The data contains about 15 columns each describing the track and it's qualities.Chosen tracks were released in period from 1956 to 2019 and there were included songs from some notable and famous artists like Queen, The Beatles, Guns N' Roses, etc.\n",
    "This data is extracted from the Spotify playlist - Top 2000s on PlaylistMachinery(@plamere) using Selenium with Python. More specifically, it was scraped from http://sortyourmusic.playlistmachinery.com/ This data contains audio features like Danceability, BPM, Liveness, Valence(Positivity) and many more.\n",
    "Each feature's description has been given in detail below.\n",
    "* Index is ID.\n",
    "* Title- name of the track.\n",
    "* Artist- name of the artist.\n",
    "* Top Genre is the genre of track.\n",
    "* Year is the year that track was released.\n",
    "* Beats per Minute(BPM) - The tempo of the song.\n",
    "* Energy: The energy of a song - the higher the value, the more energtic song is.\n",
    "* Danceability - The higher the value, the easier to dance to this song.\n",
    "* Loudness - The higher the value, the louder the song is.\n",
    "* Liveness - The higher the value , the more lively song hears to listener.\n",
    "* Valence - The higher the value, the more positive mood for the song is.\n",
    "* Length - duration of the song.\n",
    "* Acoustic - The higher the value the more acoustic the song is.\n",
    "* Speechiness- The higher the value the more spoken words the song contains.\n",
    "* Popularity - The higher the value the more popular the song is."
   ]
  },
  {
   "cell_type": "markdown",
   "metadata": {},
   "source": [
    "##  3.Formulation of research questions"
   ]
  },
  {
   "cell_type": "markdown",
   "metadata": {},
   "source": [
    "#### For detailed and deep analysis, we need to answer to the following questions:\n",
    "1. Analyze the most known Artists in the world of all times\n",
    "2. Analyze the most listened genres of all times\n",
    "3. Analyze the in which years people had listened dance and energetic songs\n",
    "4. Find trend for acousticness in songs was popular in 1960s, than they are today\n",
    "5. Find which words contained in songs are more popular?"
   ]
  },
  {
   "cell_type": "markdown",
   "metadata": {},
   "source": [
    "## 4.Data preparation: cleaning and shaping\n",
    "for well-working with data, we need to prepare it to right format.\n",
    "* find all the missing values.\n",
    "* renaming some columns\n",
    "* change values in column 'Genre'\n",
    "* convert column Length(duration) from object to int type\n",
    "* convert all the negative values in column 'loudness' to the positive\n",
    "* grouping data by columns "
   ]
  },
  {
   "cell_type": "code",
   "execution_count": 1,
   "metadata": {},
   "outputs": [],
   "source": [
    "# importing useful packages\n",
    "import numpy as np\n",
    "import pandas as pd\n",
    "import csv\n",
    "import random\n",
    "import datetime as dt\n",
    "import matplotlib.pyplot as plt\n",
    "import seaborn as sns"
   ]
  },
  {
   "cell_type": "code",
   "execution_count": 2,
   "metadata": {
    "scrolled": true
   },
   "outputs": [
    {
     "data": {
      "text/html": [
       "<div>\n",
       "<style scoped>\n",
       "    .dataframe tbody tr th:only-of-type {\n",
       "        vertical-align: middle;\n",
       "    }\n",
       "\n",
       "    .dataframe tbody tr th {\n",
       "        vertical-align: top;\n",
       "    }\n",
       "\n",
       "    .dataframe thead th {\n",
       "        text-align: right;\n",
       "    }\n",
       "</style>\n",
       "<table border=\"1\" class=\"dataframe\">\n",
       "  <thead>\n",
       "    <tr style=\"text-align: right;\">\n",
       "      <th></th>\n",
       "      <th>Index</th>\n",
       "      <th>Title</th>\n",
       "      <th>Artist</th>\n",
       "      <th>Top Genre</th>\n",
       "      <th>Year</th>\n",
       "      <th>Beats Per Minute (BPM)</th>\n",
       "      <th>Energy</th>\n",
       "      <th>Danceability</th>\n",
       "      <th>Loudness (dB)</th>\n",
       "      <th>Liveness</th>\n",
       "      <th>Valence</th>\n",
       "      <th>Length (Duration)</th>\n",
       "      <th>Acousticness</th>\n",
       "      <th>Speechiness</th>\n",
       "      <th>Popularity</th>\n",
       "    </tr>\n",
       "  </thead>\n",
       "  <tbody>\n",
       "    <tr>\n",
       "      <th>0</th>\n",
       "      <td>1</td>\n",
       "      <td>Sunrise</td>\n",
       "      <td>Norah Jones</td>\n",
       "      <td>adult standards</td>\n",
       "      <td>2004</td>\n",
       "      <td>157</td>\n",
       "      <td>30</td>\n",
       "      <td>53</td>\n",
       "      <td>-14</td>\n",
       "      <td>11</td>\n",
       "      <td>68</td>\n",
       "      <td>201</td>\n",
       "      <td>94</td>\n",
       "      <td>3</td>\n",
       "      <td>71</td>\n",
       "    </tr>\n",
       "    <tr>\n",
       "      <th>1</th>\n",
       "      <td>2</td>\n",
       "      <td>Black Night</td>\n",
       "      <td>Deep Purple</td>\n",
       "      <td>album rock</td>\n",
       "      <td>2000</td>\n",
       "      <td>135</td>\n",
       "      <td>79</td>\n",
       "      <td>50</td>\n",
       "      <td>-11</td>\n",
       "      <td>17</td>\n",
       "      <td>81</td>\n",
       "      <td>207</td>\n",
       "      <td>17</td>\n",
       "      <td>7</td>\n",
       "      <td>39</td>\n",
       "    </tr>\n",
       "    <tr>\n",
       "      <th>2</th>\n",
       "      <td>3</td>\n",
       "      <td>Clint Eastwood</td>\n",
       "      <td>Gorillaz</td>\n",
       "      <td>alternative hip hop</td>\n",
       "      <td>2001</td>\n",
       "      <td>168</td>\n",
       "      <td>69</td>\n",
       "      <td>66</td>\n",
       "      <td>-9</td>\n",
       "      <td>7</td>\n",
       "      <td>52</td>\n",
       "      <td>341</td>\n",
       "      <td>2</td>\n",
       "      <td>17</td>\n",
       "      <td>69</td>\n",
       "    </tr>\n",
       "    <tr>\n",
       "      <th>3</th>\n",
       "      <td>4</td>\n",
       "      <td>The Pretender</td>\n",
       "      <td>Foo Fighters</td>\n",
       "      <td>alternative metal</td>\n",
       "      <td>2007</td>\n",
       "      <td>173</td>\n",
       "      <td>96</td>\n",
       "      <td>43</td>\n",
       "      <td>-4</td>\n",
       "      <td>3</td>\n",
       "      <td>37</td>\n",
       "      <td>269</td>\n",
       "      <td>0</td>\n",
       "      <td>4</td>\n",
       "      <td>76</td>\n",
       "    </tr>\n",
       "    <tr>\n",
       "      <th>4</th>\n",
       "      <td>5</td>\n",
       "      <td>Waitin' On A Sunny Day</td>\n",
       "      <td>Bruce Springsteen</td>\n",
       "      <td>classic rock</td>\n",
       "      <td>2002</td>\n",
       "      <td>106</td>\n",
       "      <td>82</td>\n",
       "      <td>58</td>\n",
       "      <td>-5</td>\n",
       "      <td>10</td>\n",
       "      <td>87</td>\n",
       "      <td>256</td>\n",
       "      <td>1</td>\n",
       "      <td>3</td>\n",
       "      <td>59</td>\n",
       "    </tr>\n",
       "  </tbody>\n",
       "</table>\n",
       "</div>"
      ],
      "text/plain": [
       "   Index                   Title             Artist            Top Genre  \\\n",
       "0      1                 Sunrise        Norah Jones      adult standards   \n",
       "1      2             Black Night        Deep Purple           album rock   \n",
       "2      3          Clint Eastwood           Gorillaz  alternative hip hop   \n",
       "3      4           The Pretender       Foo Fighters    alternative metal   \n",
       "4      5  Waitin' On A Sunny Day  Bruce Springsteen         classic rock   \n",
       "\n",
       "   Year  Beats Per Minute (BPM)  Energy  Danceability  Loudness (dB)  \\\n",
       "0  2004                     157      30            53            -14   \n",
       "1  2000                     135      79            50            -11   \n",
       "2  2001                     168      69            66             -9   \n",
       "3  2007                     173      96            43             -4   \n",
       "4  2002                     106      82            58             -5   \n",
       "\n",
       "   Liveness  Valence Length (Duration)  Acousticness  Speechiness  Popularity  \n",
       "0        11       68               201            94            3          71  \n",
       "1        17       81               207            17            7          39  \n",
       "2         7       52               341             2           17          69  \n",
       "3         3       37               269             0            4          76  \n",
       "4        10       87               256             1            3          59  "
      ]
     },
     "execution_count": 2,
     "metadata": {},
     "output_type": "execute_result"
    }
   ],
   "source": [
    "# making data frame from csv file  and making the index from column \"Index\"\n",
    "top = pd.read_csv(r\"C:\\Users\\User\\Desktop\\data analytics\\Project\\Analysis-Spotify-Top-2000\\Spotify-2000.csv\",delimiter = \";\",\n",
    "             encoding = \"utf - 8\", doublequote=True, engine=\"python\")\n",
    "top.head(5)"
   ]
  },
  {
   "cell_type": "code",
   "execution_count": 3,
   "metadata": {},
   "outputs": [
    {
     "data": {
      "text/plain": [
       "(1994, 15)"
      ]
     },
     "execution_count": 3,
     "metadata": {},
     "output_type": "execute_result"
    }
   ],
   "source": [
    "#show size of table- in rows and columns\n",
    "top.shape"
   ]
  },
  {
   "cell_type": "code",
   "execution_count": 4,
   "metadata": {
    "scrolled": true
   },
   "outputs": [
    {
     "name": "stdout",
     "output_type": "stream",
     "text": [
      "<class 'pandas.core.frame.DataFrame'>\n",
      "RangeIndex: 1994 entries, 0 to 1993\n",
      "Data columns (total 15 columns):\n",
      " #   Column                  Non-Null Count  Dtype \n",
      "---  ------                  --------------  ----- \n",
      " 0   Index                   1994 non-null   int64 \n",
      " 1   Title                   1994 non-null   object\n",
      " 2   Artist                  1994 non-null   object\n",
      " 3   Top Genre               1994 non-null   object\n",
      " 4   Year                    1994 non-null   int64 \n",
      " 5   Beats Per Minute (BPM)  1994 non-null   int64 \n",
      " 6   Energy                  1994 non-null   int64 \n",
      " 7   Danceability            1994 non-null   int64 \n",
      " 8   Loudness (dB)           1994 non-null   int64 \n",
      " 9   Liveness                1994 non-null   int64 \n",
      " 10  Valence                 1994 non-null   int64 \n",
      " 11  Length (Duration)       1994 non-null   object\n",
      " 12  Acousticness            1994 non-null   int64 \n",
      " 13  Speechiness             1994 non-null   int64 \n",
      " 14  Popularity              1994 non-null   int64 \n",
      "dtypes: int64(11), object(4)\n",
      "memory usage: 233.8+ KB\n"
     ]
    }
   ],
   "source": [
    "#showing all info about columns\n",
    "top.info()"
   ]
  },
  {
   "cell_type": "code",
   "execution_count": 5,
   "metadata": {},
   "outputs": [
    {
     "data": {
      "text/plain": [
       "int64     11\n",
       "object     4\n",
       "dtype: int64"
      ]
     },
     "execution_count": 5,
     "metadata": {},
     "output_type": "execute_result"
    }
   ],
   "source": [
    "#counting types of columns\n",
    "top.dtypes.value_counts()"
   ]
  },
  {
   "cell_type": "code",
   "execution_count": 6,
   "metadata": {},
   "outputs": [
    {
     "data": {
      "text/html": [
       "<div>\n",
       "<style scoped>\n",
       "    .dataframe tbody tr th:only-of-type {\n",
       "        vertical-align: middle;\n",
       "    }\n",
       "\n",
       "    .dataframe tbody tr th {\n",
       "        vertical-align: top;\n",
       "    }\n",
       "\n",
       "    .dataframe thead th {\n",
       "        text-align: right;\n",
       "    }\n",
       "</style>\n",
       "<table border=\"1\" class=\"dataframe\">\n",
       "  <thead>\n",
       "    <tr style=\"text-align: right;\">\n",
       "      <th></th>\n",
       "      <th>Index</th>\n",
       "      <th>Year</th>\n",
       "      <th>Beats Per Minute (BPM)</th>\n",
       "      <th>Energy</th>\n",
       "      <th>Danceability</th>\n",
       "      <th>Loudness (dB)</th>\n",
       "      <th>Liveness</th>\n",
       "      <th>Valence</th>\n",
       "      <th>Acousticness</th>\n",
       "      <th>Speechiness</th>\n",
       "      <th>Popularity</th>\n",
       "    </tr>\n",
       "  </thead>\n",
       "  <tbody>\n",
       "    <tr>\n",
       "      <th>count</th>\n",
       "      <td>1994.000000</td>\n",
       "      <td>1994.000000</td>\n",
       "      <td>1994.000000</td>\n",
       "      <td>1994.000000</td>\n",
       "      <td>1994.000000</td>\n",
       "      <td>1994.000000</td>\n",
       "      <td>1994.000000</td>\n",
       "      <td>1994.000000</td>\n",
       "      <td>1994.000000</td>\n",
       "      <td>1994.000000</td>\n",
       "      <td>1994.00000</td>\n",
       "    </tr>\n",
       "    <tr>\n",
       "      <th>mean</th>\n",
       "      <td>997.500000</td>\n",
       "      <td>1992.992979</td>\n",
       "      <td>120.215647</td>\n",
       "      <td>59.679539</td>\n",
       "      <td>53.238215</td>\n",
       "      <td>-9.008526</td>\n",
       "      <td>19.012036</td>\n",
       "      <td>49.408726</td>\n",
       "      <td>28.858074</td>\n",
       "      <td>4.994985</td>\n",
       "      <td>59.52658</td>\n",
       "    </tr>\n",
       "    <tr>\n",
       "      <th>std</th>\n",
       "      <td>575.762538</td>\n",
       "      <td>16.116048</td>\n",
       "      <td>28.028096</td>\n",
       "      <td>22.154322</td>\n",
       "      <td>15.351507</td>\n",
       "      <td>3.647876</td>\n",
       "      <td>16.727378</td>\n",
       "      <td>24.858212</td>\n",
       "      <td>29.011986</td>\n",
       "      <td>4.401566</td>\n",
       "      <td>14.35160</td>\n",
       "    </tr>\n",
       "    <tr>\n",
       "      <th>min</th>\n",
       "      <td>1.000000</td>\n",
       "      <td>1956.000000</td>\n",
       "      <td>37.000000</td>\n",
       "      <td>3.000000</td>\n",
       "      <td>10.000000</td>\n",
       "      <td>-27.000000</td>\n",
       "      <td>2.000000</td>\n",
       "      <td>3.000000</td>\n",
       "      <td>0.000000</td>\n",
       "      <td>2.000000</td>\n",
       "      <td>11.00000</td>\n",
       "    </tr>\n",
       "    <tr>\n",
       "      <th>25%</th>\n",
       "      <td>499.250000</td>\n",
       "      <td>1979.000000</td>\n",
       "      <td>99.000000</td>\n",
       "      <td>42.000000</td>\n",
       "      <td>43.000000</td>\n",
       "      <td>-11.000000</td>\n",
       "      <td>9.000000</td>\n",
       "      <td>29.000000</td>\n",
       "      <td>3.000000</td>\n",
       "      <td>3.000000</td>\n",
       "      <td>49.25000</td>\n",
       "    </tr>\n",
       "    <tr>\n",
       "      <th>50%</th>\n",
       "      <td>997.500000</td>\n",
       "      <td>1993.000000</td>\n",
       "      <td>119.000000</td>\n",
       "      <td>61.000000</td>\n",
       "      <td>53.000000</td>\n",
       "      <td>-8.000000</td>\n",
       "      <td>12.000000</td>\n",
       "      <td>47.000000</td>\n",
       "      <td>18.000000</td>\n",
       "      <td>4.000000</td>\n",
       "      <td>62.00000</td>\n",
       "    </tr>\n",
       "    <tr>\n",
       "      <th>75%</th>\n",
       "      <td>1495.750000</td>\n",
       "      <td>2007.000000</td>\n",
       "      <td>136.000000</td>\n",
       "      <td>78.000000</td>\n",
       "      <td>64.000000</td>\n",
       "      <td>-6.000000</td>\n",
       "      <td>23.000000</td>\n",
       "      <td>69.750000</td>\n",
       "      <td>50.000000</td>\n",
       "      <td>5.000000</td>\n",
       "      <td>71.00000</td>\n",
       "    </tr>\n",
       "    <tr>\n",
       "      <th>max</th>\n",
       "      <td>1994.000000</td>\n",
       "      <td>2019.000000</td>\n",
       "      <td>206.000000</td>\n",
       "      <td>100.000000</td>\n",
       "      <td>96.000000</td>\n",
       "      <td>-2.000000</td>\n",
       "      <td>99.000000</td>\n",
       "      <td>99.000000</td>\n",
       "      <td>99.000000</td>\n",
       "      <td>55.000000</td>\n",
       "      <td>100.00000</td>\n",
       "    </tr>\n",
       "  </tbody>\n",
       "</table>\n",
       "</div>"
      ],
      "text/plain": [
       "             Index         Year  Beats Per Minute (BPM)       Energy  \\\n",
       "count  1994.000000  1994.000000             1994.000000  1994.000000   \n",
       "mean    997.500000  1992.992979              120.215647    59.679539   \n",
       "std     575.762538    16.116048               28.028096    22.154322   \n",
       "min       1.000000  1956.000000               37.000000     3.000000   \n",
       "25%     499.250000  1979.000000               99.000000    42.000000   \n",
       "50%     997.500000  1993.000000              119.000000    61.000000   \n",
       "75%    1495.750000  2007.000000              136.000000    78.000000   \n",
       "max    1994.000000  2019.000000              206.000000   100.000000   \n",
       "\n",
       "       Danceability  Loudness (dB)     Liveness      Valence  Acousticness  \\\n",
       "count   1994.000000    1994.000000  1994.000000  1994.000000   1994.000000   \n",
       "mean      53.238215      -9.008526    19.012036    49.408726     28.858074   \n",
       "std       15.351507       3.647876    16.727378    24.858212     29.011986   \n",
       "min       10.000000     -27.000000     2.000000     3.000000      0.000000   \n",
       "25%       43.000000     -11.000000     9.000000    29.000000      3.000000   \n",
       "50%       53.000000      -8.000000    12.000000    47.000000     18.000000   \n",
       "75%       64.000000      -6.000000    23.000000    69.750000     50.000000   \n",
       "max       96.000000      -2.000000    99.000000    99.000000     99.000000   \n",
       "\n",
       "       Speechiness  Popularity  \n",
       "count  1994.000000  1994.00000  \n",
       "mean      4.994985    59.52658  \n",
       "std       4.401566    14.35160  \n",
       "min       2.000000    11.00000  \n",
       "25%       3.000000    49.25000  \n",
       "50%       4.000000    62.00000  \n",
       "75%       5.000000    71.00000  \n",
       "max      55.000000   100.00000  "
      ]
     },
     "execution_count": 6,
     "metadata": {},
     "output_type": "execute_result"
    }
   ],
   "source": [
    "# get all the statistical derscription of numerical columns\n",
    "top.describe()"
   ]
  },
  {
   "cell_type": "code",
   "execution_count": 7,
   "metadata": {
    "scrolled": false
   },
   "outputs": [
    {
     "data": {
      "text/plain": [
       "Index                     0\n",
       "Title                     0\n",
       "Artist                    0\n",
       "Top Genre                 0\n",
       "Year                      0\n",
       "Beats Per Minute (BPM)    0\n",
       "Energy                    0\n",
       "Danceability              0\n",
       "Loudness (dB)             0\n",
       "Liveness                  0\n",
       "Valence                   0\n",
       "Length (Duration)         0\n",
       "Acousticness              0\n",
       "Speechiness               0\n",
       "Popularity                0\n",
       "dtype: int64"
      ]
     },
     "execution_count": 7,
     "metadata": {},
     "output_type": "execute_result"
    }
   ],
   "source": [
    "#finding missing values on each column\n",
    "top.isnull().sum()"
   ]
  },
  {
   "cell_type": "markdown",
   "metadata": {},
   "source": [
    "#### As we see, there are no missing values compared part 1 of submission\n",
    "This is because, initially, the dataset itself was incorrectly represented and damaged, and therefore I decided to format it, since creating a new dataframe with missing values and filtering them, and then joining two dataframes could not be possible due to the very damaged file with the dataset , and now that it has been formatted, all records are reflected correctly and without data missing. It was the only correct way to solve the problem,honestly."
   ]
  },
  {
   "cell_type": "code",
   "execution_count": 8,
   "metadata": {},
   "outputs": [
    {
     "data": {
      "text/plain": [
       "0"
      ]
     },
     "execution_count": 8,
     "metadata": {},
     "output_type": "execute_result"
    }
   ],
   "source": [
    "#finding duplicated records in dataset\n",
    "top.duplicated().sum()"
   ]
  },
  {
   "cell_type": "code",
   "execution_count": 9,
   "metadata": {},
   "outputs": [
    {
     "data": {
      "text/html": [
       "<div>\n",
       "<style scoped>\n",
       "    .dataframe tbody tr th:only-of-type {\n",
       "        vertical-align: middle;\n",
       "    }\n",
       "\n",
       "    .dataframe tbody tr th {\n",
       "        vertical-align: top;\n",
       "    }\n",
       "\n",
       "    .dataframe thead th {\n",
       "        text-align: right;\n",
       "    }\n",
       "</style>\n",
       "<table border=\"1\" class=\"dataframe\">\n",
       "  <thead>\n",
       "    <tr style=\"text-align: right;\">\n",
       "      <th></th>\n",
       "      <th>Index</th>\n",
       "      <th>Title</th>\n",
       "      <th>Artist</th>\n",
       "      <th>Top Genre</th>\n",
       "      <th>Year</th>\n",
       "      <th>Beats Per Minute (BPM)</th>\n",
       "      <th>Energy</th>\n",
       "      <th>Danceability</th>\n",
       "      <th>Loudness (dB)</th>\n",
       "      <th>Liveness</th>\n",
       "      <th>Valence</th>\n",
       "      <th>Duration (sec)</th>\n",
       "      <th>Acousticness</th>\n",
       "      <th>Speechiness</th>\n",
       "      <th>Popularity</th>\n",
       "    </tr>\n",
       "  </thead>\n",
       "  <tbody>\n",
       "    <tr>\n",
       "      <th>0</th>\n",
       "      <td>1</td>\n",
       "      <td>Sunrise</td>\n",
       "      <td>Norah Jones</td>\n",
       "      <td>adult standards</td>\n",
       "      <td>2004</td>\n",
       "      <td>157</td>\n",
       "      <td>30</td>\n",
       "      <td>53</td>\n",
       "      <td>-14</td>\n",
       "      <td>11</td>\n",
       "      <td>68</td>\n",
       "      <td>201</td>\n",
       "      <td>94</td>\n",
       "      <td>3</td>\n",
       "      <td>71</td>\n",
       "    </tr>\n",
       "    <tr>\n",
       "      <th>1</th>\n",
       "      <td>2</td>\n",
       "      <td>Black Night</td>\n",
       "      <td>Deep Purple</td>\n",
       "      <td>album rock</td>\n",
       "      <td>2000</td>\n",
       "      <td>135</td>\n",
       "      <td>79</td>\n",
       "      <td>50</td>\n",
       "      <td>-11</td>\n",
       "      <td>17</td>\n",
       "      <td>81</td>\n",
       "      <td>207</td>\n",
       "      <td>17</td>\n",
       "      <td>7</td>\n",
       "      <td>39</td>\n",
       "    </tr>\n",
       "    <tr>\n",
       "      <th>2</th>\n",
       "      <td>3</td>\n",
       "      <td>Clint Eastwood</td>\n",
       "      <td>Gorillaz</td>\n",
       "      <td>alternative hip hop</td>\n",
       "      <td>2001</td>\n",
       "      <td>168</td>\n",
       "      <td>69</td>\n",
       "      <td>66</td>\n",
       "      <td>-9</td>\n",
       "      <td>7</td>\n",
       "      <td>52</td>\n",
       "      <td>341</td>\n",
       "      <td>2</td>\n",
       "      <td>17</td>\n",
       "      <td>69</td>\n",
       "    </tr>\n",
       "    <tr>\n",
       "      <th>3</th>\n",
       "      <td>4</td>\n",
       "      <td>The Pretender</td>\n",
       "      <td>Foo Fighters</td>\n",
       "      <td>alternative metal</td>\n",
       "      <td>2007</td>\n",
       "      <td>173</td>\n",
       "      <td>96</td>\n",
       "      <td>43</td>\n",
       "      <td>-4</td>\n",
       "      <td>3</td>\n",
       "      <td>37</td>\n",
       "      <td>269</td>\n",
       "      <td>0</td>\n",
       "      <td>4</td>\n",
       "      <td>76</td>\n",
       "    </tr>\n",
       "    <tr>\n",
       "      <th>4</th>\n",
       "      <td>5</td>\n",
       "      <td>Waitin' On A Sunny Day</td>\n",
       "      <td>Bruce Springsteen</td>\n",
       "      <td>classic rock</td>\n",
       "      <td>2002</td>\n",
       "      <td>106</td>\n",
       "      <td>82</td>\n",
       "      <td>58</td>\n",
       "      <td>-5</td>\n",
       "      <td>10</td>\n",
       "      <td>87</td>\n",
       "      <td>256</td>\n",
       "      <td>1</td>\n",
       "      <td>3</td>\n",
       "      <td>59</td>\n",
       "    </tr>\n",
       "  </tbody>\n",
       "</table>\n",
       "</div>"
      ],
      "text/plain": [
       "   Index                   Title             Artist            Top Genre  \\\n",
       "0      1                 Sunrise        Norah Jones      adult standards   \n",
       "1      2             Black Night        Deep Purple           album rock   \n",
       "2      3          Clint Eastwood           Gorillaz  alternative hip hop   \n",
       "3      4           The Pretender       Foo Fighters    alternative metal   \n",
       "4      5  Waitin' On A Sunny Day  Bruce Springsteen         classic rock   \n",
       "\n",
       "   Year  Beats Per Minute (BPM)  Energy  Danceability  Loudness (dB)  \\\n",
       "0  2004                     157      30            53            -14   \n",
       "1  2000                     135      79            50            -11   \n",
       "2  2001                     168      69            66             -9   \n",
       "3  2007                     173      96            43             -4   \n",
       "4  2002                     106      82            58             -5   \n",
       "\n",
       "   Liveness  Valence Duration (sec)  Acousticness  Speechiness  Popularity  \n",
       "0        11       68            201            94            3          71  \n",
       "1        17       81            207            17            7          39  \n",
       "2         7       52            341             2           17          69  \n",
       "3         3       37            269             0            4          76  \n",
       "4        10       87            256             1            3          59  "
      ]
     },
     "execution_count": 9,
     "metadata": {},
     "output_type": "execute_result"
    }
   ],
   "source": [
    "#renaming columns\n",
    "top1 = top.rename(columns={\"Length (Duration)\": \"Duration (sec)\"})\n",
    "top1.head()"
   ]
  },
  {
   "cell_type": "code",
   "execution_count": 10,
   "metadata": {},
   "outputs": [
    {
     "data": {
      "text/plain": [
       "dtype('O')"
      ]
     },
     "execution_count": 10,
     "metadata": {},
     "output_type": "execute_result"
    }
   ],
   "source": [
    "#so , because we find no missing values, next we are going to modificate our data.\n",
    "#in this step, we will change type and values in column \"Length(Duration)\"\n",
    "top1['Duration (sec)'].dtype"
   ]
  },
  {
   "cell_type": "code",
   "execution_count": 11,
   "metadata": {},
   "outputs": [
    {
     "data": {
      "text/plain": [
       "dtype('int64')"
      ]
     },
     "execution_count": 11,
     "metadata": {},
     "output_type": "execute_result"
    }
   ],
   "source": [
    "#replacing comma from numbers that make them string values by using replace() method\n",
    "#and convert into integer by using to_numeric and apply methods\n",
    "top1.replace(',','', regex=True, inplace=True)\n",
    "top1['Duration (sec)']= top1['Duration (sec)'].apply(pd.to_numeric,errors='coerce')\n",
    "top1['Duration (sec)'].dtype"
   ]
  },
  {
   "cell_type": "code",
   "execution_count": 12,
   "metadata": {},
   "outputs": [
    {
     "data": {
      "text/plain": [
       "0       201\n",
       "1       207\n",
       "2       341\n",
       "3       269\n",
       "4       256\n",
       "       ... \n",
       "1989    128\n",
       "1990    136\n",
       "1991    162\n",
       "1992    324\n",
       "1993    148\n",
       "Name: Duration (sec), Length: 1994, dtype: int64"
      ]
     },
     "execution_count": 12,
     "metadata": {},
     "output_type": "execute_result"
    }
   ],
   "source": [
    "#show the results\n",
    "top1['Duration (sec)']"
   ]
  },
  {
   "cell_type": "code",
   "execution_count": 13,
   "metadata": {},
   "outputs": [
    {
     "data": {
      "text/plain": [
       "count    1994.000000\n",
       "mean      262.443330\n",
       "std        93.604387\n",
       "min        93.000000\n",
       "25%       212.000000\n",
       "50%       245.000000\n",
       "75%       289.000000\n",
       "max      1412.000000\n",
       "Name: Duration (sec), dtype: float64"
      ]
     },
     "execution_count": 13,
     "metadata": {},
     "output_type": "execute_result"
    }
   ],
   "source": [
    "#describing the statistical part of column\n",
    "top1['Duration (sec)'].describe()"
   ]
  },
  {
   "cell_type": "code",
   "execution_count": 14,
   "metadata": {
    "scrolled": true
   },
   "outputs": [
    {
     "data": {
      "text/html": [
       "<div>\n",
       "<style scoped>\n",
       "    .dataframe tbody tr th:only-of-type {\n",
       "        vertical-align: middle;\n",
       "    }\n",
       "\n",
       "    .dataframe tbody tr th {\n",
       "        vertical-align: top;\n",
       "    }\n",
       "\n",
       "    .dataframe thead th {\n",
       "        text-align: right;\n",
       "    }\n",
       "</style>\n",
       "<table border=\"1\" class=\"dataframe\">\n",
       "  <thead>\n",
       "    <tr style=\"text-align: right;\">\n",
       "      <th></th>\n",
       "      <th>Index</th>\n",
       "      <th>Title</th>\n",
       "      <th>Artist</th>\n",
       "      <th>Genre</th>\n",
       "      <th>Year</th>\n",
       "      <th>Beats Per Minute (BPM)</th>\n",
       "      <th>Energy</th>\n",
       "      <th>Danceability</th>\n",
       "      <th>Loudness (dB)</th>\n",
       "      <th>Liveness</th>\n",
       "      <th>Valence</th>\n",
       "      <th>Duration (sec)</th>\n",
       "      <th>Acousticness</th>\n",
       "      <th>Speechiness</th>\n",
       "      <th>Popularity</th>\n",
       "    </tr>\n",
       "  </thead>\n",
       "  <tbody>\n",
       "    <tr>\n",
       "      <th>0</th>\n",
       "      <td>1</td>\n",
       "      <td>Sunrise</td>\n",
       "      <td>Norah Jones</td>\n",
       "      <td>adult standards</td>\n",
       "      <td>2004</td>\n",
       "      <td>157</td>\n",
       "      <td>30</td>\n",
       "      <td>53</td>\n",
       "      <td>-14</td>\n",
       "      <td>11</td>\n",
       "      <td>68</td>\n",
       "      <td>201</td>\n",
       "      <td>94</td>\n",
       "      <td>3</td>\n",
       "      <td>71</td>\n",
       "    </tr>\n",
       "    <tr>\n",
       "      <th>1</th>\n",
       "      <td>2</td>\n",
       "      <td>Black Night</td>\n",
       "      <td>Deep Purple</td>\n",
       "      <td>album rock</td>\n",
       "      <td>2000</td>\n",
       "      <td>135</td>\n",
       "      <td>79</td>\n",
       "      <td>50</td>\n",
       "      <td>-11</td>\n",
       "      <td>17</td>\n",
       "      <td>81</td>\n",
       "      <td>207</td>\n",
       "      <td>17</td>\n",
       "      <td>7</td>\n",
       "      <td>39</td>\n",
       "    </tr>\n",
       "    <tr>\n",
       "      <th>2</th>\n",
       "      <td>3</td>\n",
       "      <td>Clint Eastwood</td>\n",
       "      <td>Gorillaz</td>\n",
       "      <td>alternative hip hop</td>\n",
       "      <td>2001</td>\n",
       "      <td>168</td>\n",
       "      <td>69</td>\n",
       "      <td>66</td>\n",
       "      <td>-9</td>\n",
       "      <td>7</td>\n",
       "      <td>52</td>\n",
       "      <td>341</td>\n",
       "      <td>2</td>\n",
       "      <td>17</td>\n",
       "      <td>69</td>\n",
       "    </tr>\n",
       "    <tr>\n",
       "      <th>3</th>\n",
       "      <td>4</td>\n",
       "      <td>The Pretender</td>\n",
       "      <td>Foo Fighters</td>\n",
       "      <td>alternative metal</td>\n",
       "      <td>2007</td>\n",
       "      <td>173</td>\n",
       "      <td>96</td>\n",
       "      <td>43</td>\n",
       "      <td>-4</td>\n",
       "      <td>3</td>\n",
       "      <td>37</td>\n",
       "      <td>269</td>\n",
       "      <td>0</td>\n",
       "      <td>4</td>\n",
       "      <td>76</td>\n",
       "    </tr>\n",
       "    <tr>\n",
       "      <th>4</th>\n",
       "      <td>5</td>\n",
       "      <td>Waitin' On A Sunny Day</td>\n",
       "      <td>Bruce Springsteen</td>\n",
       "      <td>classic rock</td>\n",
       "      <td>2002</td>\n",
       "      <td>106</td>\n",
       "      <td>82</td>\n",
       "      <td>58</td>\n",
       "      <td>-5</td>\n",
       "      <td>10</td>\n",
       "      <td>87</td>\n",
       "      <td>256</td>\n",
       "      <td>1</td>\n",
       "      <td>3</td>\n",
       "      <td>59</td>\n",
       "    </tr>\n",
       "  </tbody>\n",
       "</table>\n",
       "</div>"
      ],
      "text/plain": [
       "   Index                   Title             Artist                Genre  \\\n",
       "0      1                 Sunrise        Norah Jones      adult standards   \n",
       "1      2             Black Night        Deep Purple           album rock   \n",
       "2      3          Clint Eastwood           Gorillaz  alternative hip hop   \n",
       "3      4           The Pretender       Foo Fighters    alternative metal   \n",
       "4      5  Waitin' On A Sunny Day  Bruce Springsteen         classic rock   \n",
       "\n",
       "   Year  Beats Per Minute (BPM)  Energy  Danceability  Loudness (dB)  \\\n",
       "0  2004                     157      30            53            -14   \n",
       "1  2000                     135      79            50            -11   \n",
       "2  2001                     168      69            66             -9   \n",
       "3  2007                     173      96            43             -4   \n",
       "4  2002                     106      82            58             -5   \n",
       "\n",
       "   Liveness  Valence  Duration (sec)  Acousticness  Speechiness  Popularity  \n",
       "0        11       68             201            94            3          71  \n",
       "1        17       81             207            17            7          39  \n",
       "2         7       52             341             2           17          69  \n",
       "3         3       37             269             0            4          76  \n",
       "4        10       87             256             1            3          59  "
      ]
     },
     "execution_count": 14,
     "metadata": {},
     "output_type": "execute_result"
    }
   ],
   "source": [
    "#change the column name of Top Genre\n",
    "top1.rename(columns = {'Top Genre' : 'Genre'}, inplace = True)\n",
    "top1.head()"
   ]
  },
  {
   "cell_type": "code",
   "execution_count": 15,
   "metadata": {},
   "outputs": [
    {
     "data": {
      "text/html": [
       "<div>\n",
       "<style scoped>\n",
       "    .dataframe tbody tr th:only-of-type {\n",
       "        vertical-align: middle;\n",
       "    }\n",
       "\n",
       "    .dataframe tbody tr th {\n",
       "        vertical-align: top;\n",
       "    }\n",
       "\n",
       "    .dataframe thead th {\n",
       "        text-align: right;\n",
       "    }\n",
       "</style>\n",
       "<table border=\"1\" class=\"dataframe\">\n",
       "  <thead>\n",
       "    <tr style=\"text-align: right;\">\n",
       "      <th></th>\n",
       "      <th>Index</th>\n",
       "      <th>Title</th>\n",
       "      <th>Artist</th>\n",
       "      <th>Genre</th>\n",
       "      <th>Year</th>\n",
       "      <th>Beats Per Minute (BPM)</th>\n",
       "      <th>Energy</th>\n",
       "      <th>Danceability</th>\n",
       "      <th>Loudness (dB)</th>\n",
       "      <th>Liveness</th>\n",
       "      <th>Valence</th>\n",
       "      <th>Duration (sec)</th>\n",
       "      <th>Acousticness</th>\n",
       "      <th>Speechiness</th>\n",
       "      <th>Popularity</th>\n",
       "    </tr>\n",
       "  </thead>\n",
       "  <tbody>\n",
       "    <tr>\n",
       "      <th>0</th>\n",
       "      <td>1</td>\n",
       "      <td>Sunrise</td>\n",
       "      <td>Norah Jones</td>\n",
       "      <td>adult standards</td>\n",
       "      <td>2004</td>\n",
       "      <td>157</td>\n",
       "      <td>30</td>\n",
       "      <td>53</td>\n",
       "      <td>-14</td>\n",
       "      <td>11</td>\n",
       "      <td>68</td>\n",
       "      <td>201</td>\n",
       "      <td>94</td>\n",
       "      <td>3</td>\n",
       "      <td>71</td>\n",
       "    </tr>\n",
       "    <tr>\n",
       "      <th>1</th>\n",
       "      <td>2</td>\n",
       "      <td>Black Night</td>\n",
       "      <td>Deep Purple</td>\n",
       "      <td>album rock</td>\n",
       "      <td>2000</td>\n",
       "      <td>135</td>\n",
       "      <td>79</td>\n",
       "      <td>50</td>\n",
       "      <td>-11</td>\n",
       "      <td>17</td>\n",
       "      <td>81</td>\n",
       "      <td>207</td>\n",
       "      <td>17</td>\n",
       "      <td>7</td>\n",
       "      <td>39</td>\n",
       "    </tr>\n",
       "    <tr>\n",
       "      <th>2</th>\n",
       "      <td>3</td>\n",
       "      <td>Clint Eastwood</td>\n",
       "      <td>Gorillaz</td>\n",
       "      <td>alternative hip hop</td>\n",
       "      <td>2001</td>\n",
       "      <td>168</td>\n",
       "      <td>69</td>\n",
       "      <td>66</td>\n",
       "      <td>-9</td>\n",
       "      <td>7</td>\n",
       "      <td>52</td>\n",
       "      <td>341</td>\n",
       "      <td>2</td>\n",
       "      <td>17</td>\n",
       "      <td>69</td>\n",
       "    </tr>\n",
       "  </tbody>\n",
       "</table>\n",
       "</div>"
      ],
      "text/plain": [
       "   Index           Title       Artist                Genre  Year  \\\n",
       "0      1         Sunrise  Norah Jones      adult standards  2004   \n",
       "1      2     Black Night  Deep Purple           album rock  2000   \n",
       "2      3  Clint Eastwood     Gorillaz  alternative hip hop  2001   \n",
       "\n",
       "   Beats Per Minute (BPM)  Energy  Danceability  Loudness (dB)  Liveness  \\\n",
       "0                     157      30            53            -14        11   \n",
       "1                     135      79            50            -11        17   \n",
       "2                     168      69            66             -9         7   \n",
       "\n",
       "   Valence  Duration (sec)  Acousticness  Speechiness  Popularity  \n",
       "0       68             201            94            3          71  \n",
       "1       81             207            17            7          39  \n",
       "2       52             341             2           17          69  "
      ]
     },
     "execution_count": 15,
     "metadata": {},
     "output_type": "execute_result"
    }
   ],
   "source": [
    "#merging similar genres to the one general\n",
    "#conert all value's lettercases to lower\n",
    "genre = (top1[\"Genre\"].str.strip()).str.lower()\n",
    "top1.head(3)"
   ]
  },
  {
   "cell_type": "code",
   "execution_count": 16,
   "metadata": {},
   "outputs": [
    {
     "data": {
      "text/plain": [
       "68"
      ]
     },
     "execution_count": 16,
     "metadata": {},
     "output_type": "execute_result"
    }
   ],
   "source": [
    "# function to split the genre column\n",
    "def genre_splitter(genre):\n",
    "    result = genre.copy()\n",
    "    result = result.str.split(\" \",1)\n",
    "    for i in range(len(result)):\n",
    "        if (len(result[i]) > 1):\n",
    "            result[i] = [result[i][1]]\n",
    "    return result.str.join('')\n",
    "#loop until the genre cannot be split any further\n",
    "genre_m1 = genre.copy()\n",
    "while(max((genre_m1.str.split(\" \", 1)).str.len()) > 1):\n",
    "    genre_m1 = genre_splitter(genre_m1)\n",
    "len(genre_m1.unique())"
   ]
  },
  {
   "cell_type": "code",
   "execution_count": 17,
   "metadata": {
    "scrolled": true
   },
   "outputs": [
    {
     "data": {
      "text/plain": [
       "rock         856\n",
       "pop          333\n",
       "standards    123\n",
       "metal         93\n",
       "indie         77\n",
       "            ... \n",
       "hardcore       1\n",
       "afropop        1\n",
       "ccm            1\n",
       "cyberpunk      1\n",
       "bebop          1\n",
       "Name: Genre, Length: 68, dtype: int64"
      ]
     },
     "execution_count": 17,
     "metadata": {},
     "output_type": "execute_result"
    }
   ],
   "source": [
    "genre_m1.value_counts()"
   ]
  },
  {
   "cell_type": "code",
   "execution_count": 18,
   "metadata": {},
   "outputs": [
    {
     "data": {
      "text/html": [
       "<div>\n",
       "<style scoped>\n",
       "    .dataframe tbody tr th:only-of-type {\n",
       "        vertical-align: middle;\n",
       "    }\n",
       "\n",
       "    .dataframe tbody tr th {\n",
       "        vertical-align: top;\n",
       "    }\n",
       "\n",
       "    .dataframe thead th {\n",
       "        text-align: right;\n",
       "    }\n",
       "</style>\n",
       "<table border=\"1\" class=\"dataframe\">\n",
       "  <thead>\n",
       "    <tr style=\"text-align: right;\">\n",
       "      <th></th>\n",
       "      <th>Index</th>\n",
       "      <th>Title</th>\n",
       "      <th>Artist</th>\n",
       "      <th>Genre</th>\n",
       "      <th>Year</th>\n",
       "      <th>Beats Per Minute (BPM)</th>\n",
       "      <th>Energy</th>\n",
       "      <th>Danceability</th>\n",
       "      <th>Loudness (dB)</th>\n",
       "      <th>Liveness</th>\n",
       "      <th>Valence</th>\n",
       "      <th>Duration (sec)</th>\n",
       "      <th>Acousticness</th>\n",
       "      <th>Speechiness</th>\n",
       "      <th>Popularity</th>\n",
       "    </tr>\n",
       "  </thead>\n",
       "  <tbody>\n",
       "    <tr>\n",
       "      <th>0</th>\n",
       "      <td>1</td>\n",
       "      <td>Sunrise</td>\n",
       "      <td>Norah Jones</td>\n",
       "      <td>standards</td>\n",
       "      <td>2004</td>\n",
       "      <td>157</td>\n",
       "      <td>30</td>\n",
       "      <td>53</td>\n",
       "      <td>-14</td>\n",
       "      <td>11</td>\n",
       "      <td>68</td>\n",
       "      <td>201</td>\n",
       "      <td>94</td>\n",
       "      <td>3</td>\n",
       "      <td>71</td>\n",
       "    </tr>\n",
       "    <tr>\n",
       "      <th>1</th>\n",
       "      <td>2</td>\n",
       "      <td>Black Night</td>\n",
       "      <td>Deep Purple</td>\n",
       "      <td>rock</td>\n",
       "      <td>2000</td>\n",
       "      <td>135</td>\n",
       "      <td>79</td>\n",
       "      <td>50</td>\n",
       "      <td>-11</td>\n",
       "      <td>17</td>\n",
       "      <td>81</td>\n",
       "      <td>207</td>\n",
       "      <td>17</td>\n",
       "      <td>7</td>\n",
       "      <td>39</td>\n",
       "    </tr>\n",
       "    <tr>\n",
       "      <th>2</th>\n",
       "      <td>3</td>\n",
       "      <td>Clint Eastwood</td>\n",
       "      <td>Gorillaz</td>\n",
       "      <td>hop</td>\n",
       "      <td>2001</td>\n",
       "      <td>168</td>\n",
       "      <td>69</td>\n",
       "      <td>66</td>\n",
       "      <td>-9</td>\n",
       "      <td>7</td>\n",
       "      <td>52</td>\n",
       "      <td>341</td>\n",
       "      <td>2</td>\n",
       "      <td>17</td>\n",
       "      <td>69</td>\n",
       "    </tr>\n",
       "    <tr>\n",
       "      <th>3</th>\n",
       "      <td>4</td>\n",
       "      <td>The Pretender</td>\n",
       "      <td>Foo Fighters</td>\n",
       "      <td>metal</td>\n",
       "      <td>2007</td>\n",
       "      <td>173</td>\n",
       "      <td>96</td>\n",
       "      <td>43</td>\n",
       "      <td>-4</td>\n",
       "      <td>3</td>\n",
       "      <td>37</td>\n",
       "      <td>269</td>\n",
       "      <td>0</td>\n",
       "      <td>4</td>\n",
       "      <td>76</td>\n",
       "    </tr>\n",
       "    <tr>\n",
       "      <th>4</th>\n",
       "      <td>5</td>\n",
       "      <td>Waitin' On A Sunny Day</td>\n",
       "      <td>Bruce Springsteen</td>\n",
       "      <td>rock</td>\n",
       "      <td>2002</td>\n",
       "      <td>106</td>\n",
       "      <td>82</td>\n",
       "      <td>58</td>\n",
       "      <td>-5</td>\n",
       "      <td>10</td>\n",
       "      <td>87</td>\n",
       "      <td>256</td>\n",
       "      <td>1</td>\n",
       "      <td>3</td>\n",
       "      <td>59</td>\n",
       "    </tr>\n",
       "  </tbody>\n",
       "</table>\n",
       "</div>"
      ],
      "text/plain": [
       "   Index                   Title             Artist      Genre  Year  \\\n",
       "0      1                 Sunrise        Norah Jones  standards  2004   \n",
       "1      2             Black Night        Deep Purple       rock  2000   \n",
       "2      3          Clint Eastwood           Gorillaz        hop  2001   \n",
       "3      4           The Pretender       Foo Fighters      metal  2007   \n",
       "4      5  Waitin' On A Sunny Day  Bruce Springsteen       rock  2002   \n",
       "\n",
       "   Beats Per Minute (BPM)  Energy  Danceability  Loudness (dB)  Liveness  \\\n",
       "0                     157      30            53            -14        11   \n",
       "1                     135      79            50            -11        17   \n",
       "2                     168      69            66             -9         7   \n",
       "3                     173      96            43             -4         3   \n",
       "4                     106      82            58             -5        10   \n",
       "\n",
       "   Valence  Duration (sec)  Acousticness  Speechiness  Popularity  \n",
       "0       68             201            94            3          71  \n",
       "1       81             207            17            7          39  \n",
       "2       52             341             2           17          69  \n",
       "3       37             269             0            4          76  \n",
       "4       87             256             1            3          59  "
      ]
     },
     "execution_count": 18,
     "metadata": {},
     "output_type": "execute_result"
    }
   ],
   "source": [
    "#changing the column values to the results\n",
    "top1['Genre'] = genre_m1\n",
    "top1.head(5)"
   ]
  },
  {
   "cell_type": "code",
   "execution_count": 19,
   "metadata": {},
   "outputs": [
    {
     "data": {
      "text/html": [
       "<div>\n",
       "<style scoped>\n",
       "    .dataframe tbody tr th:only-of-type {\n",
       "        vertical-align: middle;\n",
       "    }\n",
       "\n",
       "    .dataframe tbody tr th {\n",
       "        vertical-align: top;\n",
       "    }\n",
       "\n",
       "    .dataframe thead th {\n",
       "        text-align: right;\n",
       "    }\n",
       "</style>\n",
       "<table border=\"1\" class=\"dataframe\">\n",
       "  <thead>\n",
       "    <tr style=\"text-align: right;\">\n",
       "      <th></th>\n",
       "      <th>Index</th>\n",
       "      <th>Title</th>\n",
       "      <th>Artist</th>\n",
       "      <th>Genre</th>\n",
       "      <th>Year</th>\n",
       "      <th>Beats Per Minute (BPM)</th>\n",
       "      <th>Energy</th>\n",
       "      <th>Danceability</th>\n",
       "      <th>Loudness (dB)</th>\n",
       "      <th>Liveness</th>\n",
       "      <th>Valence</th>\n",
       "      <th>Duration (sec)</th>\n",
       "      <th>Acousticness</th>\n",
       "      <th>Speechiness</th>\n",
       "      <th>Popularity</th>\n",
       "    </tr>\n",
       "  </thead>\n",
       "  <tbody>\n",
       "    <tr>\n",
       "      <th>0</th>\n",
       "      <td>1</td>\n",
       "      <td>Sunrise</td>\n",
       "      <td>Norah Jones</td>\n",
       "      <td>standards</td>\n",
       "      <td>2004</td>\n",
       "      <td>157</td>\n",
       "      <td>30</td>\n",
       "      <td>53</td>\n",
       "      <td>14</td>\n",
       "      <td>11</td>\n",
       "      <td>68</td>\n",
       "      <td>201</td>\n",
       "      <td>94</td>\n",
       "      <td>3</td>\n",
       "      <td>71</td>\n",
       "    </tr>\n",
       "    <tr>\n",
       "      <th>1</th>\n",
       "      <td>2</td>\n",
       "      <td>Black Night</td>\n",
       "      <td>Deep Purple</td>\n",
       "      <td>rock</td>\n",
       "      <td>2000</td>\n",
       "      <td>135</td>\n",
       "      <td>79</td>\n",
       "      <td>50</td>\n",
       "      <td>11</td>\n",
       "      <td>17</td>\n",
       "      <td>81</td>\n",
       "      <td>207</td>\n",
       "      <td>17</td>\n",
       "      <td>7</td>\n",
       "      <td>39</td>\n",
       "    </tr>\n",
       "    <tr>\n",
       "      <th>2</th>\n",
       "      <td>3</td>\n",
       "      <td>Clint Eastwood</td>\n",
       "      <td>Gorillaz</td>\n",
       "      <td>hop</td>\n",
       "      <td>2001</td>\n",
       "      <td>168</td>\n",
       "      <td>69</td>\n",
       "      <td>66</td>\n",
       "      <td>9</td>\n",
       "      <td>7</td>\n",
       "      <td>52</td>\n",
       "      <td>341</td>\n",
       "      <td>2</td>\n",
       "      <td>17</td>\n",
       "      <td>69</td>\n",
       "    </tr>\n",
       "    <tr>\n",
       "      <th>3</th>\n",
       "      <td>4</td>\n",
       "      <td>The Pretender</td>\n",
       "      <td>Foo Fighters</td>\n",
       "      <td>metal</td>\n",
       "      <td>2007</td>\n",
       "      <td>173</td>\n",
       "      <td>96</td>\n",
       "      <td>43</td>\n",
       "      <td>4</td>\n",
       "      <td>3</td>\n",
       "      <td>37</td>\n",
       "      <td>269</td>\n",
       "      <td>0</td>\n",
       "      <td>4</td>\n",
       "      <td>76</td>\n",
       "    </tr>\n",
       "    <tr>\n",
       "      <th>4</th>\n",
       "      <td>5</td>\n",
       "      <td>Waitin' On A Sunny Day</td>\n",
       "      <td>Bruce Springsteen</td>\n",
       "      <td>rock</td>\n",
       "      <td>2002</td>\n",
       "      <td>106</td>\n",
       "      <td>82</td>\n",
       "      <td>58</td>\n",
       "      <td>5</td>\n",
       "      <td>10</td>\n",
       "      <td>87</td>\n",
       "      <td>256</td>\n",
       "      <td>1</td>\n",
       "      <td>3</td>\n",
       "      <td>59</td>\n",
       "    </tr>\n",
       "  </tbody>\n",
       "</table>\n",
       "</div>"
      ],
      "text/plain": [
       "   Index                   Title             Artist      Genre  Year  \\\n",
       "0      1                 Sunrise        Norah Jones  standards  2004   \n",
       "1      2             Black Night        Deep Purple       rock  2000   \n",
       "2      3          Clint Eastwood           Gorillaz        hop  2001   \n",
       "3      4           The Pretender       Foo Fighters      metal  2007   \n",
       "4      5  Waitin' On A Sunny Day  Bruce Springsteen       rock  2002   \n",
       "\n",
       "   Beats Per Minute (BPM)  Energy  Danceability  Loudness (dB)  Liveness  \\\n",
       "0                     157      30            53             14        11   \n",
       "1                     135      79            50             11        17   \n",
       "2                     168      69            66              9         7   \n",
       "3                     173      96            43              4         3   \n",
       "4                     106      82            58              5        10   \n",
       "\n",
       "   Valence  Duration (sec)  Acousticness  Speechiness  Popularity  \n",
       "0       68             201            94            3          71  \n",
       "1       81             207            17            7          39  \n",
       "2       52             341             2           17          69  \n",
       "3       37             269             0            4          76  \n",
       "4       87             256             1            3          59  "
      ]
     },
     "execution_count": 19,
     "metadata": {},
     "output_type": "execute_result"
    }
   ],
   "source": [
    "#convert negative values in \"Loudness \" column to positive by using abs() function\n",
    "top1['Loudness (dB)'] = top1['Loudness (dB)'].abs()\n",
    "top1.head(5)"
   ]
  },
  {
   "cell_type": "code",
   "execution_count": 20,
   "metadata": {},
   "outputs": [
    {
     "data": {
      "text/plain": [
       "Queen                  37\n",
       "The Beatles            36\n",
       "Coldplay               27\n",
       "U2                     26\n",
       "The Rolling Stones     24\n",
       "                       ..\n",
       "Faith No More           1\n",
       "Santa Esmeralda         1\n",
       "Gorki                   1\n",
       "5 Seconds of Summer     1\n",
       "Of Monsters and Men     1\n",
       "Name: Artist, Length: 731, dtype: int64"
      ]
     },
     "execution_count": 20,
     "metadata": {},
     "output_type": "execute_result"
    }
   ],
   "source": [
    "#next, we'll define how many artists participate in our research and how many songs of these artists are in this dataset\n",
    "top1['Artist'].value_counts()"
   ]
  },
  {
   "cell_type": "code",
   "execution_count": 21,
   "metadata": {
    "scrolled": false
   },
   "outputs": [
    {
     "data": {
      "text/html": [
       "<div>\n",
       "<style scoped>\n",
       "    .dataframe tbody tr th:only-of-type {\n",
       "        vertical-align: middle;\n",
       "    }\n",
       "\n",
       "    .dataframe tbody tr th {\n",
       "        vertical-align: top;\n",
       "    }\n",
       "\n",
       "    .dataframe thead th {\n",
       "        text-align: right;\n",
       "    }\n",
       "</style>\n",
       "<table border=\"1\" class=\"dataframe\">\n",
       "  <thead>\n",
       "    <tr style=\"text-align: right;\">\n",
       "      <th></th>\n",
       "      <th>Index</th>\n",
       "      <th>Title</th>\n",
       "      <th>Artist</th>\n",
       "      <th>Genre</th>\n",
       "      <th>Year</th>\n",
       "      <th>Beats Per Minute (BPM)</th>\n",
       "      <th>Energy</th>\n",
       "      <th>Danceability</th>\n",
       "      <th>Loudness (dB)</th>\n",
       "      <th>Liveness</th>\n",
       "      <th>Valence</th>\n",
       "      <th>Duration (sec)</th>\n",
       "      <th>Acousticness</th>\n",
       "      <th>Speechiness</th>\n",
       "      <th>Popularity</th>\n",
       "    </tr>\n",
       "  </thead>\n",
       "  <tbody>\n",
       "    <tr>\n",
       "      <th>793</th>\n",
       "      <td>794</td>\n",
       "      <td>Dance Monkey</td>\n",
       "      <td>Tones and I</td>\n",
       "      <td>pop</td>\n",
       "      <td>2019</td>\n",
       "      <td>98</td>\n",
       "      <td>59</td>\n",
       "      <td>82</td>\n",
       "      <td>6</td>\n",
       "      <td>15</td>\n",
       "      <td>51</td>\n",
       "      <td>209</td>\n",
       "      <td>69</td>\n",
       "      <td>9</td>\n",
       "      <td>100</td>\n",
       "    </tr>\n",
       "    <tr>\n",
       "      <th>787</th>\n",
       "      <td>788</td>\n",
       "      <td>Memories</td>\n",
       "      <td>Maroon 5</td>\n",
       "      <td>pop</td>\n",
       "      <td>2019</td>\n",
       "      <td>91</td>\n",
       "      <td>32</td>\n",
       "      <td>76</td>\n",
       "      <td>7</td>\n",
       "      <td>8</td>\n",
       "      <td>57</td>\n",
       "      <td>189</td>\n",
       "      <td>84</td>\n",
       "      <td>5</td>\n",
       "      <td>98</td>\n",
       "    </tr>\n",
       "    <tr>\n",
       "      <th>786</th>\n",
       "      <td>787</td>\n",
       "      <td>bad guy</td>\n",
       "      <td>Billie Eilish</td>\n",
       "      <td>electropop</td>\n",
       "      <td>2019</td>\n",
       "      <td>135</td>\n",
       "      <td>43</td>\n",
       "      <td>70</td>\n",
       "      <td>11</td>\n",
       "      <td>10</td>\n",
       "      <td>56</td>\n",
       "      <td>194</td>\n",
       "      <td>33</td>\n",
       "      <td>38</td>\n",
       "      <td>95</td>\n",
       "    </tr>\n",
       "    <tr>\n",
       "      <th>1641</th>\n",
       "      <td>1642</td>\n",
       "      <td>All I Want for Christmas Is You</td>\n",
       "      <td>Mariah Carey</td>\n",
       "      <td>pop</td>\n",
       "      <td>1994</td>\n",
       "      <td>150</td>\n",
       "      <td>63</td>\n",
       "      <td>34</td>\n",
       "      <td>7</td>\n",
       "      <td>7</td>\n",
       "      <td>35</td>\n",
       "      <td>241</td>\n",
       "      <td>16</td>\n",
       "      <td>4</td>\n",
       "      <td>95</td>\n",
       "    </tr>\n",
       "    <tr>\n",
       "      <th>688</th>\n",
       "      <td>689</td>\n",
       "      <td>Believer</td>\n",
       "      <td>Imagine Dragons</td>\n",
       "      <td>rock</td>\n",
       "      <td>2017</td>\n",
       "      <td>125</td>\n",
       "      <td>78</td>\n",
       "      <td>78</td>\n",
       "      <td>4</td>\n",
       "      <td>8</td>\n",
       "      <td>67</td>\n",
       "      <td>204</td>\n",
       "      <td>6</td>\n",
       "      <td>13</td>\n",
       "      <td>88</td>\n",
       "    </tr>\n",
       "    <tr>\n",
       "      <th>...</th>\n",
       "      <td>...</td>\n",
       "      <td>...</td>\n",
       "      <td>...</td>\n",
       "      <td>...</td>\n",
       "      <td>...</td>\n",
       "      <td>...</td>\n",
       "      <td>...</td>\n",
       "      <td>...</td>\n",
       "      <td>...</td>\n",
       "      <td>...</td>\n",
       "      <td>...</td>\n",
       "      <td>...</td>\n",
       "      <td>...</td>\n",
       "      <td>...</td>\n",
       "      <td>...</td>\n",
       "    </tr>\n",
       "    <tr>\n",
       "      <th>605</th>\n",
       "      <td>606</td>\n",
       "      <td>Het Dorp - Live</td>\n",
       "      <td>Wim Sonneveld</td>\n",
       "      <td>cabaret</td>\n",
       "      <td>2015</td>\n",
       "      <td>114</td>\n",
       "      <td>44</td>\n",
       "      <td>37</td>\n",
       "      <td>15</td>\n",
       "      <td>67</td>\n",
       "      <td>45</td>\n",
       "      <td>198</td>\n",
       "      <td>82</td>\n",
       "      <td>8</td>\n",
       "      <td>15</td>\n",
       "    </tr>\n",
       "    <tr>\n",
       "      <th>411</th>\n",
       "      <td>412</td>\n",
       "      <td>Peter Gunn Theme</td>\n",
       "      <td>Emerson Lake &amp; Palmer</td>\n",
       "      <td>rock</td>\n",
       "      <td>2010</td>\n",
       "      <td>131</td>\n",
       "      <td>83</td>\n",
       "      <td>43</td>\n",
       "      <td>7</td>\n",
       "      <td>92</td>\n",
       "      <td>71</td>\n",
       "      <td>217</td>\n",
       "      <td>1</td>\n",
       "      <td>3</td>\n",
       "      <td>14</td>\n",
       "    </tr>\n",
       "    <tr>\n",
       "      <th>624</th>\n",
       "      <td>625</td>\n",
       "      <td>Three Days In A Row</td>\n",
       "      <td>Anouk</td>\n",
       "      <td>indie</td>\n",
       "      <td>2015</td>\n",
       "      <td>171</td>\n",
       "      <td>50</td>\n",
       "      <td>36</td>\n",
       "      <td>6</td>\n",
       "      <td>16</td>\n",
       "      <td>39</td>\n",
       "      <td>254</td>\n",
       "      <td>0</td>\n",
       "      <td>3</td>\n",
       "      <td>13</td>\n",
       "    </tr>\n",
       "    <tr>\n",
       "      <th>773</th>\n",
       "      <td>774</td>\n",
       "      <td>Hou Vol Hou Vast</td>\n",
       "      <td>BLØF</td>\n",
       "      <td>pop</td>\n",
       "      <td>2018</td>\n",
       "      <td>86</td>\n",
       "      <td>61</td>\n",
       "      <td>51</td>\n",
       "      <td>5</td>\n",
       "      <td>8</td>\n",
       "      <td>23</td>\n",
       "      <td>295</td>\n",
       "      <td>0</td>\n",
       "      <td>2</td>\n",
       "      <td>12</td>\n",
       "    </tr>\n",
       "    <tr>\n",
       "      <th>1793</th>\n",
       "      <td>1794</td>\n",
       "      <td>Sacrifice</td>\n",
       "      <td>Anouk</td>\n",
       "      <td>indie</td>\n",
       "      <td>1998</td>\n",
       "      <td>136</td>\n",
       "      <td>17</td>\n",
       "      <td>54</td>\n",
       "      <td>13</td>\n",
       "      <td>9</td>\n",
       "      <td>24</td>\n",
       "      <td>238</td>\n",
       "      <td>74</td>\n",
       "      <td>5</td>\n",
       "      <td>11</td>\n",
       "    </tr>\n",
       "  </tbody>\n",
       "</table>\n",
       "<p>1994 rows × 15 columns</p>\n",
       "</div>"
      ],
      "text/plain": [
       "      Index                            Title                 Artist  \\\n",
       "793     794                     Dance Monkey            Tones and I   \n",
       "787     788                         Memories               Maroon 5   \n",
       "786     787                          bad guy          Billie Eilish   \n",
       "1641   1642  All I Want for Christmas Is You           Mariah Carey   \n",
       "688     689                         Believer        Imagine Dragons   \n",
       "...     ...                              ...                    ...   \n",
       "605     606                  Het Dorp - Live          Wim Sonneveld   \n",
       "411     412                 Peter Gunn Theme  Emerson Lake & Palmer   \n",
       "624     625              Three Days In A Row                  Anouk   \n",
       "773     774                 Hou Vol Hou Vast                   BLØF   \n",
       "1793   1794                        Sacrifice                  Anouk   \n",
       "\n",
       "           Genre  Year  Beats Per Minute (BPM)  Energy  Danceability  \\\n",
       "793          pop  2019                      98      59            82   \n",
       "787          pop  2019                      91      32            76   \n",
       "786   electropop  2019                     135      43            70   \n",
       "1641         pop  1994                     150      63            34   \n",
       "688         rock  2017                     125      78            78   \n",
       "...          ...   ...                     ...     ...           ...   \n",
       "605      cabaret  2015                     114      44            37   \n",
       "411         rock  2010                     131      83            43   \n",
       "624        indie  2015                     171      50            36   \n",
       "773          pop  2018                      86      61            51   \n",
       "1793       indie  1998                     136      17            54   \n",
       "\n",
       "      Loudness (dB)  Liveness  Valence  Duration (sec)  Acousticness  \\\n",
       "793               6        15       51             209            69   \n",
       "787               7         8       57             189            84   \n",
       "786              11        10       56             194            33   \n",
       "1641              7         7       35             241            16   \n",
       "688               4         8       67             204             6   \n",
       "...             ...       ...      ...             ...           ...   \n",
       "605              15        67       45             198            82   \n",
       "411               7        92       71             217             1   \n",
       "624               6        16       39             254             0   \n",
       "773               5         8       23             295             0   \n",
       "1793             13         9       24             238            74   \n",
       "\n",
       "      Speechiness  Popularity  \n",
       "793             9         100  \n",
       "787             5          98  \n",
       "786            38          95  \n",
       "1641            4          95  \n",
       "688            13          88  \n",
       "...           ...         ...  \n",
       "605             8          15  \n",
       "411             3          14  \n",
       "624             3          13  \n",
       "773             2          12  \n",
       "1793            5          11  \n",
       "\n",
       "[1994 rows x 15 columns]"
      ]
     },
     "execution_count": 21,
     "metadata": {},
     "output_type": "execute_result"
    }
   ],
   "source": [
    "#sorting songs from most to less popular\n",
    "top1.sort_values(['Popularity'], ascending = False)"
   ]
  },
  {
   "cell_type": "code",
   "execution_count": 22,
   "metadata": {
    "scrolled": true
   },
   "outputs": [
    {
     "data": {
      "text/html": [
       "<div>\n",
       "<style scoped>\n",
       "    .dataframe tbody tr th:only-of-type {\n",
       "        vertical-align: middle;\n",
       "    }\n",
       "\n",
       "    .dataframe tbody tr th {\n",
       "        vertical-align: top;\n",
       "    }\n",
       "\n",
       "    .dataframe thead th {\n",
       "        text-align: right;\n",
       "    }\n",
       "</style>\n",
       "<table border=\"1\" class=\"dataframe\">\n",
       "  <thead>\n",
       "    <tr style=\"text-align: right;\">\n",
       "      <th></th>\n",
       "      <th>Popularity</th>\n",
       "    </tr>\n",
       "    <tr>\n",
       "      <th>Genre</th>\n",
       "      <th></th>\n",
       "    </tr>\n",
       "  </thead>\n",
       "  <tbody>\n",
       "    <tr>\n",
       "      <th>pop</th>\n",
       "      <td>100</td>\n",
       "    </tr>\n",
       "    <tr>\n",
       "      <th>electropop</th>\n",
       "      <td>95</td>\n",
       "    </tr>\n",
       "    <tr>\n",
       "      <th>rock</th>\n",
       "      <td>88</td>\n",
       "    </tr>\n",
       "    <tr>\n",
       "      <th>mellow</th>\n",
       "      <td>86</td>\n",
       "    </tr>\n",
       "    <tr>\n",
       "      <th>room</th>\n",
       "      <td>85</td>\n",
       "    </tr>\n",
       "    <tr>\n",
       "      <th>...</th>\n",
       "      <td>...</td>\n",
       "    </tr>\n",
       "    <tr>\n",
       "      <th>hardcore</th>\n",
       "      <td>37</td>\n",
       "    </tr>\n",
       "    <tr>\n",
       "      <th>prog</th>\n",
       "      <td>36</td>\n",
       "    </tr>\n",
       "    <tr>\n",
       "      <th>rock-and-roll</th>\n",
       "      <td>33</td>\n",
       "    </tr>\n",
       "    <tr>\n",
       "      <th>ambient</th>\n",
       "      <td>28</td>\n",
       "    </tr>\n",
       "    <tr>\n",
       "      <th>streektaal</th>\n",
       "      <td>28</td>\n",
       "    </tr>\n",
       "  </tbody>\n",
       "</table>\n",
       "<p>68 rows × 1 columns</p>\n",
       "</div>"
      ],
      "text/plain": [
       "               Popularity\n",
       "Genre                    \n",
       "pop                   100\n",
       "electropop             95\n",
       "rock                   88\n",
       "mellow                 86\n",
       "room                   85\n",
       "...                   ...\n",
       "hardcore               37\n",
       "prog                   36\n",
       "rock-and-roll          33\n",
       "ambient                28\n",
       "streektaal             28\n",
       "\n",
       "[68 rows x 1 columns]"
      ]
     },
     "execution_count": 22,
     "metadata": {},
     "output_type": "execute_result"
    }
   ],
   "source": [
    "#here we define highest value of popularity by each genre\n",
    "top1.groupby(['Genre']).aggregate({'Popularity' : 'max'}).sort_values(['Popularity'], ascending = False)"
   ]
  },
  {
   "cell_type": "markdown",
   "metadata": {},
   "source": [
    "## 5.Data visualisation"
   ]
  },
  {
   "cell_type": "code",
   "execution_count": 23,
   "metadata": {},
   "outputs": [
    {
     "data": {
      "text/plain": [
       "<matplotlib.axes._subplots.AxesSubplot at 0x27b32dc3310>"
      ]
     },
     "execution_count": 23,
     "metadata": {},
     "output_type": "execute_result"
    },
    {
     "data": {
      "image/png": "[encoded data removed]",
      "text/plain": [
       "<Figure size 720x576 with 2 Axes>"
      ]
     },
     "metadata": {
      "needs_background": "light"
     },
     "output_type": "display_data"
    }
   ],
   "source": [
    "# before we begin visualisation of particular researching, we draw correlation matrix for all data in our analysis\n",
    "plt.figure(figsize=(10,8))\n",
    "corrMatrix = top1.corr()\n",
    "sns.heatmap(corrMatrix, annot = True)"
   ]
  },
  {
   "cell_type": "markdown",
   "metadata": {},
   "source": [
    "### 5.1 Q1: Analyze the most known Artists in the world of all times\n",
    "* count amount of songs of each artist\n",
    "* define artists with high marks of popularity in general term\n",
    "* draw plots"
   ]
  },
  {
   "cell_type": "code",
   "execution_count": 24,
   "metadata": {
    "scrolled": true
   },
   "outputs": [
    {
     "name": "stdout",
     "output_type": "stream",
     "text": [
      "               Artist  top5 most occurring\n",
      "0               Queen                   37\n",
      "1         The Beatles                   36\n",
      "2            Coldplay                   27\n",
      "3                  U2                   26\n",
      "4  The Rolling Stones                   24\n"
     ]
    }
   ],
   "source": [
    "#find most occuring artists\n",
    "print(top1[['Artist', 'Popularity']].groupby('Artist')['Popularity'].count().nlargest(5).reset_index(name='top5 most occurring'))"
   ]
  },
  {
   "cell_type": "code",
   "execution_count": 25,
   "metadata": {},
   "outputs": [
    {
     "data": {
      "text/plain": [
       "Text(0.5, 1.0, 'Amount of songs of Artists')"
      ]
     },
     "execution_count": 25,
     "metadata": {},
     "output_type": "execute_result"
    },
    {
     "data": {
      "text/plain": [
       "<Figure size 1080x504 with 0 Axes>"
      ]
     },
     "metadata": {},
     "output_type": "display_data"
    },
    {
     "data": {
      "image/png": "[encoded data removed]",
      "text/plain": [
       "<Figure size 432x288 with 1 Axes>"
      ]
     },
     "metadata": {
      "needs_background": "light"
     },
     "output_type": "display_data"
    }
   ],
   "source": [
    "#draw barplot for result\n",
    "fig = plt.figure(figsize = (15,7))\n",
    "top1[['Artist', 'Popularity']].groupby('Artist')['Popularity'].count().nlargest(5) \\\n",
    ".reset_index(name='top5 most occurring').plot(kind = 'bar')\n",
    "plt.xlabel('Artist Index', fontsize = 20)\n",
    "plt.ylabel('Count of songs', fontsize = 20)\n",
    "plt.title('Amount of songs of Artists', fontsize = 30)"
   ]
  },
  {
   "cell_type": "code",
   "execution_count": 26,
   "metadata": {
    "scrolled": false
   },
   "outputs": [
    {
     "name": "stdout",
     "output_type": "stream",
     "text": [
      "            Artist  top5 most popular\n",
      "0      Tones and I                100\n",
      "1         Maroon 5                 98\n",
      "2    Billie Eilish                 95\n",
      "3     Mariah Carey                 95\n",
      "4  Imagine Dragons                 88\n"
     ]
    }
   ],
   "source": [
    "#find top5 popular songs\n",
    "print(top1[['Artist', 'Popularity']].groupby('Artist')['Popularity'].max().nlargest(5).reset_index(name='top5 most popular'))"
   ]
  },
  {
   "cell_type": "code",
   "execution_count": 27,
   "metadata": {
    "scrolled": false
   },
   "outputs": [
    {
     "data": {
      "text/plain": [
       "Text(0.5, 1.0, 'Popular song of Artists')"
      ]
     },
     "execution_count": 27,
     "metadata": {},
     "output_type": "execute_result"
    },
    {
     "data": {
      "image/png": "[encoded data removed]",
      "text/plain": [
       "<Figure size 432x288 with 1 Axes>"
      ]
     },
     "metadata": {
      "needs_background": "light"
     },
     "output_type": "display_data"
    }
   ],
   "source": [
    "#draw barplot for the result\n",
    "top1[['Artist', 'Popularity']].groupby('Artist')['Popularity'].max().nlargest(5) \\\n",
    ".reset_index(name='top5 most popular').plot(kind = 'bar')\n",
    "plt.xlabel('Artist Index', fontsize = 20)\n",
    "plt.ylabel('Popularity of song', fontsize = 20)\n",
    "plt.title('Popular song of Artists', fontsize = 30)"
   ]
  },
  {
   "cell_type": "markdown",
   "metadata": {},
   "source": [
    "So, we define that most Artists with most popular songs are Tones and I , Billie Eilish, Imagine Dragons, Maroon 5, Marriah Carey.\n",
    "And most occurring artists are groups Queen,The Beatles, Coldplay,U2, the Rolling Stones"
   ]
  },
  {
   "cell_type": "markdown",
   "metadata": {},
   "source": [
    "### 5.2 Q2 : Analyze the most listened genres of all times\n",
    "* count amount of songs in each genre\n",
    "* get genres with high marks of popularity each year  \n",
    "* plot the given result"
   ]
  },
  {
   "cell_type": "code",
   "execution_count": 28,
   "metadata": {},
   "outputs": [
    {
     "name": "stdout",
     "output_type": "stream",
     "text": [
      "<class 'pandas.core.series.Series'>\n"
     ]
    },
    {
     "data": {
      "text/plain": [
       "Genre\n",
       "rock           856\n",
       "pop            333\n",
       "standards      123\n",
       "metal           93\n",
       "indie           77\n",
       "              ... \n",
       "electronica      1\n",
       "rap              1\n",
       "hardcore         1\n",
       "trance           1\n",
       "afropop          1\n",
       "Length: 68, dtype: int64"
      ]
     },
     "execution_count": 28,
     "metadata": {},
     "output_type": "execute_result"
    }
   ],
   "source": [
    "#Calculating the number of songs of each genre\n",
    "print(type(top1['Genre']))\n",
    "popular_genre=top1.groupby('Genre').size()\n",
    "popular_genre.sort_values(ascending = False)"
   ]
  },
  {
   "cell_type": "code",
   "execution_count": 29,
   "metadata": {},
   "outputs": [
    {
     "data": {
      "image/png": "[encoded data removed]",
      "text/plain": [
       "<Figure size 720x720 with 1 Axes>"
      ]
     },
     "metadata": {},
     "output_type": "display_data"
    }
   ],
   "source": [
    "#draw a pieplot for result\n",
    "labels = top1.Genre.value_counts().index\n",
    "sizes = top1.Genre.value_counts().values\n",
    "colors = ['red', 'yellowgreen', 'coral', 'blue','cyan', 'green', 'black','yellow']\n",
    "plt.figure(figsize = (10,10))\n",
    "plt.pie(sizes, labels=labels, colors=colors)\n",
    "autopct=('%1.1f%%')\n",
    "plt.axis('equal')\n",
    "plt.show()"
   ]
  },
  {
   "cell_type": "code",
   "execution_count": 30,
   "metadata": {
    "scrolled": true
   },
   "outputs": [
    {
     "data": {
      "text/html": [
       "<div>\n",
       "<style scoped>\n",
       "    .dataframe tbody tr th:only-of-type {\n",
       "        vertical-align: middle;\n",
       "    }\n",
       "\n",
       "    .dataframe tbody tr th {\n",
       "        vertical-align: top;\n",
       "    }\n",
       "\n",
       "    .dataframe thead th {\n",
       "        text-align: right;\n",
       "    }\n",
       "</style>\n",
       "<table border=\"1\" class=\"dataframe\">\n",
       "  <thead>\n",
       "    <tr style=\"text-align: right;\">\n",
       "      <th></th>\n",
       "      <th>Popularity</th>\n",
       "    </tr>\n",
       "    <tr>\n",
       "      <th>Genre</th>\n",
       "      <th></th>\n",
       "    </tr>\n",
       "  </thead>\n",
       "  <tbody>\n",
       "    <tr>\n",
       "      <th>pop</th>\n",
       "      <td>100</td>\n",
       "    </tr>\n",
       "    <tr>\n",
       "      <th>electropop</th>\n",
       "      <td>95</td>\n",
       "    </tr>\n",
       "    <tr>\n",
       "      <th>rock</th>\n",
       "      <td>88</td>\n",
       "    </tr>\n",
       "    <tr>\n",
       "      <th>mellow</th>\n",
       "      <td>86</td>\n",
       "    </tr>\n",
       "    <tr>\n",
       "      <th>room</th>\n",
       "      <td>85</td>\n",
       "    </tr>\n",
       "  </tbody>\n",
       "</table>\n",
       "</div>"
      ],
      "text/plain": [
       "            Popularity\n",
       "Genre                 \n",
       "pop                100\n",
       "electropop          95\n",
       "rock                88\n",
       "mellow              86\n",
       "room                85"
      ]
     },
     "execution_count": 30,
     "metadata": {},
     "output_type": "execute_result"
    }
   ],
   "source": [
    "#find genres with highest value of popularity\n",
    "top1.groupby(['Genre']).aggregate({'Popularity' : 'max'}).sort_values('Popularity',ascending = False).head(5)"
   ]
  },
  {
   "cell_type": "code",
   "execution_count": 31,
   "metadata": {
    "scrolled": false
   },
   "outputs": [
    {
     "data": {
      "text/plain": [
       "Text(0.5, 1.0, 'Popularity of genre')"
      ]
     },
     "execution_count": 31,
     "metadata": {},
     "output_type": "execute_result"
    },
    {
     "data": {
      "image/png": "[encoded data removed]",
      "text/plain": [
       "<Figure size 1080x504 with 1 Axes>"
      ]
     },
     "metadata": {
      "needs_background": "light"
     },
     "output_type": "display_data"
    }
   ],
   "source": [
    "#draw a lineplot for result\n",
    "fig, ax = plt.subplots(figsize=(15,7))\n",
    "top1.groupby(['Genre']).max()['Popularity'].plot(ax = ax)\n",
    "plt.xlabel('genre', fontsize = 20)\n",
    "plt.ylabel('Popularity', fontsize = 20)\n",
    "plt.title('Popularity of genre', fontsize = 30)"
   ]
  },
  {
   "cell_type": "markdown",
   "metadata": {},
   "source": [
    "we researched that most popular genres are pop, rock, electropop,standards,metal,room, mellow"
   ]
  },
  {
   "cell_type": "markdown",
   "metadata": {},
   "source": [
    "### 5.3 Q3: define in which time period people had listened more energetic songs \n",
    "*  to find this, we research data in columns 'Beats per Minute(BPM)', 'Energy ' and 'Dancebility'\n",
    "*  draw a matching plots\n"
   ]
  },
  {
   "cell_type": "code",
   "execution_count": 32,
   "metadata": {},
   "outputs": [
    {
     "data": {
      "text/html": [
       "<div>\n",
       "<style scoped>\n",
       "    .dataframe tbody tr th:only-of-type {\n",
       "        vertical-align: middle;\n",
       "    }\n",
       "\n",
       "    .dataframe tbody tr th {\n",
       "        vertical-align: top;\n",
       "    }\n",
       "\n",
       "    .dataframe thead th {\n",
       "        text-align: right;\n",
       "    }\n",
       "</style>\n",
       "<table border=\"1\" class=\"dataframe\">\n",
       "  <thead>\n",
       "    <tr style=\"text-align: right;\">\n",
       "      <th></th>\n",
       "      <th>Title</th>\n",
       "      <th>Artist</th>\n",
       "      <th>Genre</th>\n",
       "      <th>Year</th>\n",
       "      <th>Beats Per Minute (BPM)</th>\n",
       "    </tr>\n",
       "  </thead>\n",
       "  <tbody>\n",
       "    <tr>\n",
       "      <th>1426</th>\n",
       "      <td>It's The End Of The World As We Know It (And I...</td>\n",
       "      <td>R.E.M.</td>\n",
       "      <td>rock</td>\n",
       "      <td>1987</td>\n",
       "      <td>206</td>\n",
       "    </tr>\n",
       "    <tr>\n",
       "      <th>284</th>\n",
       "      <td>Lady Jane - (Original Single Mono Version)</td>\n",
       "      <td>The Rolling Stones</td>\n",
       "      <td>rock</td>\n",
       "      <td>2004</td>\n",
       "      <td>205</td>\n",
       "    </tr>\n",
       "    <tr>\n",
       "      <th>1808</th>\n",
       "      <td>Road Trippin'</td>\n",
       "      <td>Red Hot Chili Peppers</td>\n",
       "      <td>rock</td>\n",
       "      <td>1999</td>\n",
       "      <td>204</td>\n",
       "    </tr>\n",
       "    <tr>\n",
       "      <th>1218</th>\n",
       "      <td>Islands In the Stream</td>\n",
       "      <td>Dolly Parton</td>\n",
       "      <td>pop</td>\n",
       "      <td>1982</td>\n",
       "      <td>204</td>\n",
       "    </tr>\n",
       "    <tr>\n",
       "      <th>851</th>\n",
       "      <td>What's Going On</td>\n",
       "      <td>Marvin Gaye</td>\n",
       "      <td>soul</td>\n",
       "      <td>1971</td>\n",
       "      <td>203</td>\n",
       "    </tr>\n",
       "  </tbody>\n",
       "</table>\n",
       "</div>"
      ],
      "text/plain": [
       "                                                  Title  \\\n",
       "1426  It's The End Of The World As We Know It (And I...   \n",
       "284          Lady Jane - (Original Single Mono Version)   \n",
       "1808                                      Road Trippin'   \n",
       "1218                              Islands In the Stream   \n",
       "851                                     What's Going On   \n",
       "\n",
       "                     Artist Genre  Year  Beats Per Minute (BPM)  \n",
       "1426                 R.E.M.  rock  1987                     206  \n",
       "284      The Rolling Stones  rock  2004                     205  \n",
       "1808  Red Hot Chili Peppers  rock  1999                     204  \n",
       "1218           Dolly Parton   pop  1982                     204  \n",
       "851             Marvin Gaye  soul  1971                     203  "
      ]
     },
     "execution_count": 32,
     "metadata": {},
     "output_type": "execute_result"
    }
   ],
   "source": [
    "#get data with highest bpm value\n",
    "top1.loc[: ,'Title':'Beats Per Minute (BPM)'].sort_values('Beats Per Minute (BPM)', ascending = False).head(5)"
   ]
  },
  {
   "cell_type": "code",
   "execution_count": 33,
   "metadata": {
    "scrolled": true
   },
   "outputs": [
    {
     "data": {
      "image/png": "[encoded data removed]",
      "text/plain": [
       "<Figure size 576x288 with 1 Axes>"
      ]
     },
     "metadata": {
      "needs_background": "light"
     },
     "output_type": "display_data"
    }
   ],
   "source": [
    "#draw a distribution plot\n",
    "plt.figure(figsize=(8,4))\n",
    "sns.distplot(top1['Beats Per Minute (BPM)'], kde=False, bins=15,color='red', hist_kws=dict(edgecolor=\"k\", linewidth=1))\n",
    "plt.show()"
   ]
  },
  {
   "cell_type": "code",
   "execution_count": 34,
   "metadata": {},
   "outputs": [
    {
     "data": {
      "text/html": [
       "<div>\n",
       "<style scoped>\n",
       "    .dataframe tbody tr th:only-of-type {\n",
       "        vertical-align: middle;\n",
       "    }\n",
       "\n",
       "    .dataframe tbody tr th {\n",
       "        vertical-align: top;\n",
       "    }\n",
       "\n",
       "    .dataframe thead th {\n",
       "        text-align: right;\n",
       "    }\n",
       "</style>\n",
       "<table border=\"1\" class=\"dataframe\">\n",
       "  <thead>\n",
       "    <tr style=\"text-align: right;\">\n",
       "      <th></th>\n",
       "      <th>Title</th>\n",
       "      <th>Artist</th>\n",
       "      <th>Genre</th>\n",
       "      <th>Year</th>\n",
       "      <th>Beats Per Minute (BPM)</th>\n",
       "      <th>Energy</th>\n",
       "    </tr>\n",
       "  </thead>\n",
       "  <tbody>\n",
       "    <tr>\n",
       "      <th>1345</th>\n",
       "      <td>Angel Of Death</td>\n",
       "      <td>Slayer</td>\n",
       "      <td>metal</td>\n",
       "      <td>1986</td>\n",
       "      <td>90</td>\n",
       "      <td>100</td>\n",
       "    </tr>\n",
       "    <tr>\n",
       "      <th>23</th>\n",
       "      <td>Somebody Told Me</td>\n",
       "      <td>The Killers</td>\n",
       "      <td>rock</td>\n",
       "      <td>2004</td>\n",
       "      <td>138</td>\n",
       "      <td>99</td>\n",
       "    </tr>\n",
       "    <tr>\n",
       "      <th>1733</th>\n",
       "      <td>Smack My Bitch Up</td>\n",
       "      <td>The Prodigy</td>\n",
       "      <td>beat</td>\n",
       "      <td>1997</td>\n",
       "      <td>136</td>\n",
       "      <td>99</td>\n",
       "    </tr>\n",
       "    <tr>\n",
       "      <th>43</th>\n",
       "      <td>American Idiot</td>\n",
       "      <td>Green Day</td>\n",
       "      <td>rock</td>\n",
       "      <td>2004</td>\n",
       "      <td>186</td>\n",
       "      <td>99</td>\n",
       "    </tr>\n",
       "    <tr>\n",
       "      <th>1395</th>\n",
       "      <td>Welcome To The Jungle</td>\n",
       "      <td>Guns N' Roses</td>\n",
       "      <td>metal</td>\n",
       "      <td>1987</td>\n",
       "      <td>124</td>\n",
       "      <td>99</td>\n",
       "    </tr>\n",
       "  </tbody>\n",
       "</table>\n",
       "</div>"
      ],
      "text/plain": [
       "                      Title         Artist  Genre  Year  \\\n",
       "1345         Angel Of Death         Slayer  metal  1986   \n",
       "23         Somebody Told Me    The Killers   rock  2004   \n",
       "1733      Smack My Bitch Up    The Prodigy   beat  1997   \n",
       "43           American Idiot      Green Day   rock  2004   \n",
       "1395  Welcome To The Jungle  Guns N' Roses  metal  1987   \n",
       "\n",
       "      Beats Per Minute (BPM)  Energy  \n",
       "1345                      90     100  \n",
       "23                       138      99  \n",
       "1733                     136      99  \n",
       "43                       186      99  \n",
       "1395                     124      99  "
      ]
     },
     "execution_count": 34,
     "metadata": {},
     "output_type": "execute_result"
    }
   ],
   "source": [
    "#get data with highest energy value\n",
    "top1.loc[: ,'Title':'Energy'].sort_values('Energy', ascending = False).head(5)"
   ]
  },
  {
   "cell_type": "code",
   "execution_count": 35,
   "metadata": {
    "scrolled": false
   },
   "outputs": [
    {
     "data": {
      "image/png": "[encoded data removed]",
      "text/plain": [
       "<Figure size 576x288 with 1 Axes>"
      ]
     },
     "metadata": {
      "needs_background": "light"
     },
     "output_type": "display_data"
    }
   ],
   "source": [
    "#draw a distribution plot\n",
    "plt.figure(figsize=(8,4))\n",
    "sns.distplot(top1['Energy'], kde=False, bins=15,color='aqua', hist_kws=dict(edgecolor=\"black\", linewidth=1))\n",
    "plt.show()"
   ]
  },
  {
   "cell_type": "code",
   "execution_count": 36,
   "metadata": {},
   "outputs": [
    {
     "data": {
      "text/html": [
       "<div>\n",
       "<style scoped>\n",
       "    .dataframe tbody tr th:only-of-type {\n",
       "        vertical-align: middle;\n",
       "    }\n",
       "\n",
       "    .dataframe tbody tr th {\n",
       "        vertical-align: top;\n",
       "    }\n",
       "\n",
       "    .dataframe thead th {\n",
       "        text-align: right;\n",
       "    }\n",
       "</style>\n",
       "<table border=\"1\" class=\"dataframe\">\n",
       "  <thead>\n",
       "    <tr style=\"text-align: right;\">\n",
       "      <th></th>\n",
       "      <th>Title</th>\n",
       "      <th>Artist</th>\n",
       "      <th>Genre</th>\n",
       "      <th>Year</th>\n",
       "      <th>Beats Per Minute (BPM)</th>\n",
       "      <th>Energy</th>\n",
       "      <th>Danceability</th>\n",
       "    </tr>\n",
       "  </thead>\n",
       "  <tbody>\n",
       "    <tr>\n",
       "      <th>1477</th>\n",
       "      <td>Kingston Town</td>\n",
       "      <td>UB40</td>\n",
       "      <td>fusion</td>\n",
       "      <td>1989</td>\n",
       "      <td>102</td>\n",
       "      <td>25</td>\n",
       "      <td>96</td>\n",
       "    </tr>\n",
       "    <tr>\n",
       "      <th>1752</th>\n",
       "      <td>Around the World</td>\n",
       "      <td>Daft Punk</td>\n",
       "      <td>electro</td>\n",
       "      <td>1997</td>\n",
       "      <td>121</td>\n",
       "      <td>80</td>\n",
       "      <td>96</td>\n",
       "    </tr>\n",
       "    <tr>\n",
       "      <th>282</th>\n",
       "      <td>Watskeburt?!</td>\n",
       "      <td>De Jeugd Van Tegenwoordig</td>\n",
       "      <td>hop</td>\n",
       "      <td>2008</td>\n",
       "      <td>130</td>\n",
       "      <td>49</td>\n",
       "      <td>95</td>\n",
       "    </tr>\n",
       "    <tr>\n",
       "      <th>192</th>\n",
       "      <td>The Real Slim Shady</td>\n",
       "      <td>Eminem</td>\n",
       "      <td>hop</td>\n",
       "      <td>2000</td>\n",
       "      <td>105</td>\n",
       "      <td>66</td>\n",
       "      <td>95</td>\n",
       "    </tr>\n",
       "    <tr>\n",
       "      <th>1264</th>\n",
       "      <td>Buffalo Soldier</td>\n",
       "      <td>Bob Marley &amp; The Wailers</td>\n",
       "      <td>reggae</td>\n",
       "      <td>1983</td>\n",
       "      <td>124</td>\n",
       "      <td>46</td>\n",
       "      <td>93</td>\n",
       "    </tr>\n",
       "  </tbody>\n",
       "</table>\n",
       "</div>"
      ],
      "text/plain": [
       "                    Title                     Artist    Genre  Year  \\\n",
       "1477        Kingston Town                       UB40   fusion  1989   \n",
       "1752     Around the World                  Daft Punk  electro  1997   \n",
       "282          Watskeburt?!  De Jeugd Van Tegenwoordig      hop  2008   \n",
       "192   The Real Slim Shady                     Eminem      hop  2000   \n",
       "1264      Buffalo Soldier   Bob Marley & The Wailers   reggae  1983   \n",
       "\n",
       "      Beats Per Minute (BPM)  Energy  Danceability  \n",
       "1477                     102      25            96  \n",
       "1752                     121      80            96  \n",
       "282                      130      49            95  \n",
       "192                      105      66            95  \n",
       "1264                     124      46            93  "
      ]
     },
     "execution_count": 36,
     "metadata": {},
     "output_type": "execute_result"
    }
   ],
   "source": [
    "top1.loc[: ,'Title':'Danceability'].sort_values('Danceability', ascending = False).head(5)"
   ]
  },
  {
   "cell_type": "code",
   "execution_count": 37,
   "metadata": {},
   "outputs": [
    {
     "data": {
      "image/png": "[encoded data removed]",
      "text/plain": [
       "<Figure size 576x288 with 1 Axes>"
      ]
     },
     "metadata": {
      "needs_background": "light"
     },
     "output_type": "display_data"
    }
   ],
   "source": [
    "#draw a distribution plot\n",
    "plt.figure(figsize=(8,4))\n",
    "sns.distplot(top1['Danceability'], kde=False, bins=15,color='darkorchid', hist_kws=dict(edgecolor=\"black\", linewidth=1))\n",
    "plt.show()"
   ]
  },
  {
   "cell_type": "code",
   "execution_count": 38,
   "metadata": {
    "scrolled": false
   },
   "outputs": [
    {
     "data": {
      "text/plain": [
       "Text(0.5, 1.0, 'Relationship between Years and Energy, Danceability and BPM')"
      ]
     },
     "execution_count": 38,
     "metadata": {},
     "output_type": "execute_result"
    },
    {
     "data": {
      "image/png": "[encoded data removed]",
      "text/plain": [
       "<Figure size 1008x504 with 1 Axes>"
      ]
     },
     "metadata": {
      "needs_background": "light"
     },
     "output_type": "display_data"
    }
   ],
   "source": [
    "# Analysing the relationship between energy and year\n",
    "plt.figure(figsize=(14,7))\n",
    "regplot=sns.lineplot(x=\"Year\",y='Energy',data=top1, label = 'Energy',marker='o')\n",
    "regplot=sns.lineplot(x=\"Year\",y='Danceability', data=top1, label = 'Danceability', marker='o')\n",
    "regplot=sns.lineplot(x=\"Year\",y='Beats Per Minute (BPM)',data=top1, label = 'Beats Per Minute (BPM)', marker='o')\n",
    "regplot.set_title(\"Relationship between Years and Energy, Danceability and BPM\")\n"
   ]
  },
  {
   "cell_type": "markdown",
   "metadata": {},
   "source": [
    "found that \n",
    "* more energetic songs were listened in period 2000-2010\n",
    "* more dance songs were listened in period 1970-1980\n",
    "* more more beat songs were listened in period 1960-1970"
   ]
  },
  {
   "cell_type": "markdown",
   "metadata": {},
   "source": [
    "### 5.4 Q4: Find if  trend for acousticness in songs was popular in 1960s, than they are today\n",
    "*  to find this, we research data in column 'Acousticness'\n",
    "*  draw a matching plots\n"
   ]
  },
  {
   "cell_type": "code",
   "execution_count": 39,
   "metadata": {
    "scrolled": true
   },
   "outputs": [
    {
     "data": {
      "text/html": [
       "<div>\n",
       "<style scoped>\n",
       "    .dataframe tbody tr th:only-of-type {\n",
       "        vertical-align: middle;\n",
       "    }\n",
       "\n",
       "    .dataframe tbody tr th {\n",
       "        vertical-align: top;\n",
       "    }\n",
       "\n",
       "    .dataframe thead th {\n",
       "        text-align: right;\n",
       "    }\n",
       "</style>\n",
       "<table border=\"1\" class=\"dataframe\">\n",
       "  <thead>\n",
       "    <tr style=\"text-align: right;\">\n",
       "      <th></th>\n",
       "      <th>Title</th>\n",
       "      <th>Acousticness</th>\n",
       "      <th>Year</th>\n",
       "    </tr>\n",
       "  </thead>\n",
       "  <tbody>\n",
       "    <tr>\n",
       "      <th>1840</th>\n",
       "      <td>House Of The Rising Sun</td>\n",
       "      <td>0</td>\n",
       "      <td>1964</td>\n",
       "    </tr>\n",
       "    <tr>\n",
       "      <th>375</th>\n",
       "      <td>Elevation</td>\n",
       "      <td>0</td>\n",
       "      <td>2000</td>\n",
       "    </tr>\n",
       "    <tr>\n",
       "      <th>374</th>\n",
       "      <td>Bad Romance</td>\n",
       "      <td>0</td>\n",
       "      <td>2009</td>\n",
       "    </tr>\n",
       "    <tr>\n",
       "      <th>1534</th>\n",
       "      <td>Lithium</td>\n",
       "      <td>0</td>\n",
       "      <td>1991</td>\n",
       "    </tr>\n",
       "    <tr>\n",
       "      <th>370</th>\n",
       "      <td>Life in Technicolor ii</td>\n",
       "      <td>0</td>\n",
       "      <td>2008</td>\n",
       "    </tr>\n",
       "  </tbody>\n",
       "</table>\n",
       "</div>"
      ],
      "text/plain": [
       "                        Title  Acousticness  Year\n",
       "1840  House Of The Rising Sun             0  1964\n",
       "375                 Elevation             0  2000\n",
       "374               Bad Romance             0  2009\n",
       "1534                  Lithium             0  1991\n",
       "370    Life in Technicolor ii             0  2008"
      ]
     },
     "execution_count": 39,
     "metadata": {},
     "output_type": "execute_result"
    }
   ],
   "source": [
    "top1[['Title','Acousticness','Year']].sort_values('Acousticness').head(5)"
   ]
  },
  {
   "cell_type": "code",
   "execution_count": 40,
   "metadata": {},
   "outputs": [
    {
     "data": {
      "text/plain": [
       "<matplotlib.axes._subplots.AxesSubplot at 0x27b334b14f0>"
      ]
     },
     "execution_count": 40,
     "metadata": {},
     "output_type": "execute_result"
    },
    {
     "data": {
      "image/png": "[encoded data removed]",
      "text/plain": [
       "<Figure size 432x288 with 1 Axes>"
      ]
     },
     "metadata": {
      "needs_background": "light"
     },
     "output_type": "display_data"
    }
   ],
   "source": [
    "#draw a distplot\n",
    "sns.distplot( top1['Acousticness'] , color=\"skyblue\")"
   ]
  },
  {
   "cell_type": "code",
   "execution_count": 41,
   "metadata": {},
   "outputs": [
    {
     "data": {
      "text/plain": [
       "<seaborn.axisgrid.JointGrid at 0x27b33043f70>"
      ]
     },
     "execution_count": 41,
     "metadata": {},
     "output_type": "execute_result"
    },
    {
     "data": {
      "text/plain": [
       "<Figure size 1152x648 with 0 Axes>"
      ]
     },
     "metadata": {},
     "output_type": "display_data"
    },
    {
     "data": {
      "image/png": "[encoded data removed]",
      "text/plain": [
       "<Figure size 432x432 with 3 Axes>"
      ]
     },
     "metadata": {
      "needs_background": "light"
     },
     "output_type": "display_data"
    }
   ],
   "source": [
    "#joinplot for analyzing acousticness\n",
    "plt.figure(figsize=(16,9))\n",
    "sns.jointplot(x=top1['Year'], y=top1['Acousticness'], kind=\"kde\")"
   ]
  },
  {
   "cell_type": "markdown",
   "metadata": {},
   "source": [
    "here we can see that trend to acousticness was less in 2010s than in 1960s"
   ]
  },
  {
   "cell_type": "markdown",
   "metadata": {},
   "source": [
    "## Conclusion"
   ]
  },
  {
   "cell_type": "markdown",
   "metadata": {},
   "source": [
    "In this data analysis, we made a research to the top 2000 songs of Spotify music service.\n",
    "We conclude that:\n",
    "* firstly, we find most popular Artist and their popular songs\n",
    "* second, find the most popular genres of music\n",
    "* third, find trend in time periods on several characteristics of track which are- Energy, acousticness, danceability\n",
    "Our analysis has shown various data that can help with more advanced research of music trends and their various indicators to improve and optimize various services such as spotify, etc."
   ]
  },
  {
   "cell_type": "code",
   "execution_count": null,
   "metadata": {},
   "outputs": [],
   "source": []
  }
 ],
 "metadata": {
  "kernelspec": {
   "display_name": "Python 3",
   "language": "python",
   "name": "python3"
  },
  "language_info": {
   "codemirror_mode": {
    "name": "ipython",
    "version": 3
   },
   "file_extension": ".py",
   "mimetype": "text/x-python",
   "name": "python",
   "nbconvert_exporter": "python",
   "pygments_lexer": "ipython3",
   "version": "3.8.3"
  }
 },
 "nbformat": 4,
 "nbformat_minor": 4
}
